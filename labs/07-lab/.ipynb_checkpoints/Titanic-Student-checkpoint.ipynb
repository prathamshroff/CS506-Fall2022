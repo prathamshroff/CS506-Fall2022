{
 "cells": [
  {
   "cell_type": "code",
   "execution_count": 594,
   "metadata": {
    "_cell_guid": "b1076dfc-b9ad-4769-8c92-a6c4dae69d19",
    "_uuid": "8f2839f25d086af736a60e9eeb907d3b93b6e0e5",
    "execution": {
     "iopub.execute_input": "2022-10-27T01:51:08.399559Z",
     "iopub.status.busy": "2022-10-27T01:51:08.399153Z",
     "iopub.status.idle": "2022-10-27T01:51:08.40706Z",
     "shell.execute_reply": "2022-10-27T01:51:08.405377Z",
     "shell.execute_reply.started": "2022-10-27T01:51:08.399523Z"
    },
    "papermill": {
     "duration": 1.298605,
     "end_time": "2022-10-23T12:28:09.993329",
     "exception": false,
     "start_time": "2022-10-23T12:28:08.694724",
     "status": "completed"
    },
    "tags": []
   },
   "outputs": [],
   "source": [
    "import pandas as pd\n",
    "import numpy as np\n",
    "import seaborn as sns\n",
    "import matplotlib.pyplot as plt\n",
    "import warnings \n",
    "\n",
    "warnings.filterwarnings(\"ignore\")"
   ]
  },
  {
   "cell_type": "code",
   "execution_count": 595,
   "metadata": {
    "execution": {
     "iopub.execute_input": "2022-10-27T01:51:08.409932Z",
     "iopub.status.busy": "2022-10-27T01:51:08.409528Z",
     "iopub.status.idle": "2022-10-27T01:51:08.466503Z",
     "shell.execute_reply": "2022-10-27T01:51:08.465062Z",
     "shell.execute_reply.started": "2022-10-27T01:51:08.409899Z"
    }
   },
   "outputs": [],
   "source": [
    "train = pd.read_csv('train.csv')\n",
    "test = pd.read_csv('test.csv')\n",
    "test = pd.merge(test, train, how='inner', on='Id')"
   ]
  },
  {
   "cell_type": "code",
   "execution_count": 596,
   "metadata": {
    "execution": {
     "iopub.execute_input": "2022-10-27T01:51:08.468788Z",
     "iopub.status.busy": "2022-10-27T01:51:08.468355Z",
     "iopub.status.idle": "2022-10-27T01:51:08.478051Z",
     "shell.execute_reply": "2022-10-27T01:51:08.476483Z",
     "shell.execute_reply.started": "2022-10-27T01:51:08.46875Z"
    }
   },
   "outputs": [],
   "source": [
    "columns = ['Transported_x', 'Transported_y']\n",
    "test = test.drop(columns, axis=1)"
   ]
  },
  {
   "cell_type": "code",
   "execution_count": 597,
   "metadata": {
    "execution": {
     "iopub.execute_input": "2022-10-27T01:51:08.481395Z",
     "iopub.status.busy": "2022-10-27T01:51:08.480921Z",
     "iopub.status.idle": "2022-10-27T01:51:08.494177Z",
     "shell.execute_reply": "2022-10-27T01:51:08.492829Z",
     "shell.execute_reply.started": "2022-10-27T01:51:08.481357Z"
    }
   },
   "outputs": [],
   "source": [
    "train = train[train[\"Transported\"].notnull()]"
   ]
  },
  {
   "cell_type": "code",
   "execution_count": 598,
   "metadata": {
    "execution": {
     "iopub.execute_input": "2022-10-27T01:51:08.497258Z",
     "iopub.status.busy": "2022-10-27T01:51:08.495883Z",
     "iopub.status.idle": "2022-10-27T01:51:08.522665Z",
     "shell.execute_reply": "2022-10-27T01:51:08.521245Z",
     "shell.execute_reply.started": "2022-10-27T01:51:08.497205Z"
    }
   },
   "outputs": [
    {
     "data": {
      "text/html": [
       "<div>\n",
       "<style scoped>\n",
       "    .dataframe tbody tr th:only-of-type {\n",
       "        vertical-align: middle;\n",
       "    }\n",
       "\n",
       "    .dataframe tbody tr th {\n",
       "        vertical-align: top;\n",
       "    }\n",
       "\n",
       "    .dataframe thead th {\n",
       "        text-align: right;\n",
       "    }\n",
       "</style>\n",
       "<table border=\"1\" class=\"dataframe\">\n",
       "  <thead>\n",
       "    <tr style=\"text-align: right;\">\n",
       "      <th></th>\n",
       "      <th>Id</th>\n",
       "      <th>PassengerId</th>\n",
       "      <th>HomePlanet</th>\n",
       "      <th>CryoSleep</th>\n",
       "      <th>Cabin</th>\n",
       "      <th>Destination</th>\n",
       "      <th>Age</th>\n",
       "      <th>VIP</th>\n",
       "      <th>RoomService</th>\n",
       "      <th>FoodCourt</th>\n",
       "      <th>ShoppingMall</th>\n",
       "      <th>Spa</th>\n",
       "      <th>VRDeck</th>\n",
       "      <th>Name</th>\n",
       "      <th>Transported</th>\n",
       "    </tr>\n",
       "  </thead>\n",
       "  <tbody>\n",
       "    <tr>\n",
       "      <th>1</th>\n",
       "      <td>1</td>\n",
       "      <td>0002_01</td>\n",
       "      <td>Earth</td>\n",
       "      <td>False</td>\n",
       "      <td>F/0/S</td>\n",
       "      <td>TRAPPIST-1e</td>\n",
       "      <td>24.0</td>\n",
       "      <td>False</td>\n",
       "      <td>109.0</td>\n",
       "      <td>9.0</td>\n",
       "      <td>25.0</td>\n",
       "      <td>549.0</td>\n",
       "      <td>44.0</td>\n",
       "      <td>Juanna Vines</td>\n",
       "      <td>1.0</td>\n",
       "    </tr>\n",
       "    <tr>\n",
       "      <th>2</th>\n",
       "      <td>2</td>\n",
       "      <td>0003_01</td>\n",
       "      <td>Europa</td>\n",
       "      <td>False</td>\n",
       "      <td>A/0/S</td>\n",
       "      <td>TRAPPIST-1e</td>\n",
       "      <td>58.0</td>\n",
       "      <td>True</td>\n",
       "      <td>43.0</td>\n",
       "      <td>3576.0</td>\n",
       "      <td>0.0</td>\n",
       "      <td>6715.0</td>\n",
       "      <td>49.0</td>\n",
       "      <td>Altark Susent</td>\n",
       "      <td>0.0</td>\n",
       "    </tr>\n",
       "    <tr>\n",
       "      <th>3</th>\n",
       "      <td>3</td>\n",
       "      <td>0003_02</td>\n",
       "      <td>Europa</td>\n",
       "      <td>False</td>\n",
       "      <td>A/0/S</td>\n",
       "      <td>TRAPPIST-1e</td>\n",
       "      <td>33.0</td>\n",
       "      <td>False</td>\n",
       "      <td>0.0</td>\n",
       "      <td>1283.0</td>\n",
       "      <td>371.0</td>\n",
       "      <td>3329.0</td>\n",
       "      <td>193.0</td>\n",
       "      <td>Solam Susent</td>\n",
       "      <td>0.0</td>\n",
       "    </tr>\n",
       "    <tr>\n",
       "      <th>4</th>\n",
       "      <td>4</td>\n",
       "      <td>0004_01</td>\n",
       "      <td>Earth</td>\n",
       "      <td>False</td>\n",
       "      <td>F/1/S</td>\n",
       "      <td>TRAPPIST-1e</td>\n",
       "      <td>16.0</td>\n",
       "      <td>False</td>\n",
       "      <td>303.0</td>\n",
       "      <td>70.0</td>\n",
       "      <td>151.0</td>\n",
       "      <td>565.0</td>\n",
       "      <td>2.0</td>\n",
       "      <td>Willy Santantines</td>\n",
       "      <td>1.0</td>\n",
       "    </tr>\n",
       "    <tr>\n",
       "      <th>5</th>\n",
       "      <td>5</td>\n",
       "      <td>0005_01</td>\n",
       "      <td>Earth</td>\n",
       "      <td>False</td>\n",
       "      <td>F/0/P</td>\n",
       "      <td>PSO J318.5-22</td>\n",
       "      <td>44.0</td>\n",
       "      <td>False</td>\n",
       "      <td>0.0</td>\n",
       "      <td>483.0</td>\n",
       "      <td>0.0</td>\n",
       "      <td>291.0</td>\n",
       "      <td>0.0</td>\n",
       "      <td>Sandie Hinetthews</td>\n",
       "      <td>1.0</td>\n",
       "    </tr>\n",
       "  </tbody>\n",
       "</table>\n",
       "</div>"
      ],
      "text/plain": [
       "   Id PassengerId HomePlanet CryoSleep  Cabin    Destination   Age    VIP  \\\n",
       "1   1     0002_01      Earth     False  F/0/S    TRAPPIST-1e  24.0  False   \n",
       "2   2     0003_01     Europa     False  A/0/S    TRAPPIST-1e  58.0   True   \n",
       "3   3     0003_02     Europa     False  A/0/S    TRAPPIST-1e  33.0  False   \n",
       "4   4     0004_01      Earth     False  F/1/S    TRAPPIST-1e  16.0  False   \n",
       "5   5     0005_01      Earth     False  F/0/P  PSO J318.5-22  44.0  False   \n",
       "\n",
       "   RoomService  FoodCourt  ShoppingMall     Spa  VRDeck               Name  \\\n",
       "1        109.0        9.0          25.0   549.0    44.0       Juanna Vines   \n",
       "2         43.0     3576.0           0.0  6715.0    49.0      Altark Susent   \n",
       "3          0.0     1283.0         371.0  3329.0   193.0       Solam Susent   \n",
       "4        303.0       70.0         151.0   565.0     2.0  Willy Santantines   \n",
       "5          0.0      483.0           0.0   291.0     0.0  Sandie Hinetthews   \n",
       "\n",
       "   Transported  \n",
       "1          1.0  \n",
       "2          0.0  \n",
       "3          0.0  \n",
       "4          1.0  \n",
       "5          1.0  "
      ]
     },
     "execution_count": 598,
     "metadata": {},
     "output_type": "execute_result"
    }
   ],
   "source": [
    "train.head()"
   ]
  },
  {
   "cell_type": "code",
   "execution_count": 599,
   "metadata": {
    "execution": {
     "iopub.execute_input": "2022-10-27T01:51:08.525299Z",
     "iopub.status.busy": "2022-10-27T01:51:08.524265Z",
     "iopub.status.idle": "2022-10-27T01:51:08.551168Z",
     "shell.execute_reply": "2022-10-27T01:51:08.549873Z",
     "shell.execute_reply.started": "2022-10-27T01:51:08.525246Z"
    }
   },
   "outputs": [
    {
     "data": {
      "text/html": [
       "<div>\n",
       "<style scoped>\n",
       "    .dataframe tbody tr th:only-of-type {\n",
       "        vertical-align: middle;\n",
       "    }\n",
       "\n",
       "    .dataframe tbody tr th {\n",
       "        vertical-align: top;\n",
       "    }\n",
       "\n",
       "    .dataframe thead th {\n",
       "        text-align: right;\n",
       "    }\n",
       "</style>\n",
       "<table border=\"1\" class=\"dataframe\">\n",
       "  <thead>\n",
       "    <tr style=\"text-align: right;\">\n",
       "      <th></th>\n",
       "      <th>Id</th>\n",
       "      <th>PassengerId</th>\n",
       "      <th>HomePlanet</th>\n",
       "      <th>CryoSleep</th>\n",
       "      <th>Cabin</th>\n",
       "      <th>Destination</th>\n",
       "      <th>Age</th>\n",
       "      <th>VIP</th>\n",
       "      <th>RoomService</th>\n",
       "      <th>FoodCourt</th>\n",
       "      <th>ShoppingMall</th>\n",
       "      <th>Spa</th>\n",
       "      <th>VRDeck</th>\n",
       "      <th>Name</th>\n",
       "    </tr>\n",
       "  </thead>\n",
       "  <tbody>\n",
       "    <tr>\n",
       "      <th>0</th>\n",
       "      <td>304</td>\n",
       "      <td>0337_02</td>\n",
       "      <td>Mars</td>\n",
       "      <td>False</td>\n",
       "      <td>F/63/S</td>\n",
       "      <td>TRAPPIST-1e</td>\n",
       "      <td>19.0</td>\n",
       "      <td>False</td>\n",
       "      <td>417.0</td>\n",
       "      <td>349.0</td>\n",
       "      <td>634.0</td>\n",
       "      <td>3.0</td>\n",
       "      <td>1057.0</td>\n",
       "      <td>Weros Perle</td>\n",
       "    </tr>\n",
       "    <tr>\n",
       "      <th>1</th>\n",
       "      <td>2697</td>\n",
       "      <td>2891_01</td>\n",
       "      <td>Earth</td>\n",
       "      <td>False</td>\n",
       "      <td>G/460/S</td>\n",
       "      <td>TRAPPIST-1e</td>\n",
       "      <td>18.0</td>\n",
       "      <td>False</td>\n",
       "      <td>4.0</td>\n",
       "      <td>904.0</td>\n",
       "      <td>0.0</td>\n",
       "      <td>0.0</td>\n",
       "      <td>1.0</td>\n",
       "      <td>Gleney Ortinericey</td>\n",
       "    </tr>\n",
       "    <tr>\n",
       "      <th>2</th>\n",
       "      <td>8424</td>\n",
       "      <td>8998_01</td>\n",
       "      <td>Earth</td>\n",
       "      <td>True</td>\n",
       "      <td>G/1449/S</td>\n",
       "      <td>TRAPPIST-1e</td>\n",
       "      <td>41.0</td>\n",
       "      <td>False</td>\n",
       "      <td>0.0</td>\n",
       "      <td>0.0</td>\n",
       "      <td>0.0</td>\n",
       "      <td>0.0</td>\n",
       "      <td>0.0</td>\n",
       "      <td>Gerry Englence</td>\n",
       "    </tr>\n",
       "    <tr>\n",
       "      <th>3</th>\n",
       "      <td>1672</td>\n",
       "      <td>1771_01</td>\n",
       "      <td>Earth</td>\n",
       "      <td>False</td>\n",
       "      <td>G/291/P</td>\n",
       "      <td>TRAPPIST-1e</td>\n",
       "      <td>35.0</td>\n",
       "      <td>False</td>\n",
       "      <td>0.0</td>\n",
       "      <td>338.0</td>\n",
       "      <td>436.0</td>\n",
       "      <td>NaN</td>\n",
       "      <td>0.0</td>\n",
       "      <td>Antone Cardner</td>\n",
       "    </tr>\n",
       "    <tr>\n",
       "      <th>4</th>\n",
       "      <td>8458</td>\n",
       "      <td>9034_02</td>\n",
       "      <td>Europa</td>\n",
       "      <td>True</td>\n",
       "      <td>D/288/P</td>\n",
       "      <td>TRAPPIST-1e</td>\n",
       "      <td>43.0</td>\n",
       "      <td>False</td>\n",
       "      <td>0.0</td>\n",
       "      <td>0.0</td>\n",
       "      <td>0.0</td>\n",
       "      <td>0.0</td>\n",
       "      <td>0.0</td>\n",
       "      <td>Errairk Crakete</td>\n",
       "    </tr>\n",
       "  </tbody>\n",
       "</table>\n",
       "</div>"
      ],
      "text/plain": [
       "     Id PassengerId HomePlanet CryoSleep     Cabin  Destination   Age    VIP  \\\n",
       "0   304     0337_02       Mars     False    F/63/S  TRAPPIST-1e  19.0  False   \n",
       "1  2697     2891_01      Earth     False   G/460/S  TRAPPIST-1e  18.0  False   \n",
       "2  8424     8998_01      Earth      True  G/1449/S  TRAPPIST-1e  41.0  False   \n",
       "3  1672     1771_01      Earth     False   G/291/P  TRAPPIST-1e  35.0  False   \n",
       "4  8458     9034_02     Europa      True   D/288/P  TRAPPIST-1e  43.0  False   \n",
       "\n",
       "   RoomService  FoodCourt  ShoppingMall  Spa  VRDeck                Name  \n",
       "0        417.0      349.0         634.0  3.0  1057.0         Weros Perle  \n",
       "1          4.0      904.0           0.0  0.0     1.0  Gleney Ortinericey  \n",
       "2          0.0        0.0           0.0  0.0     0.0      Gerry Englence  \n",
       "3          0.0      338.0         436.0  NaN     0.0      Antone Cardner  \n",
       "4          0.0        0.0           0.0  0.0     0.0     Errairk Crakete  "
      ]
     },
     "execution_count": 599,
     "metadata": {},
     "output_type": "execute_result"
    }
   ],
   "source": [
    "test.head()"
   ]
  },
  {
   "cell_type": "code",
   "execution_count": 600,
   "metadata": {
    "execution": {
     "iopub.execute_input": "2022-10-27T01:51:08.553263Z",
     "iopub.status.busy": "2022-10-27T01:51:08.552905Z",
     "iopub.status.idle": "2022-10-27T01:51:08.575335Z",
     "shell.execute_reply": "2022-10-27T01:51:08.573903Z",
     "shell.execute_reply.started": "2022-10-27T01:51:08.55323Z"
    },
    "papermill": {
     "duration": 0.048598,
     "end_time": "2022-10-23T12:28:10.276391",
     "exception": false,
     "start_time": "2022-10-23T12:28:10.227793",
     "status": "completed"
    },
    "tags": []
   },
   "outputs": [
    {
     "name": "stdout",
     "output_type": "stream",
     "text": [
      "<class 'pandas.core.frame.DataFrame'>\n",
      "Int64Index: 6954 entries, 1 to 8692\n",
      "Data columns (total 15 columns):\n",
      " #   Column        Non-Null Count  Dtype  \n",
      "---  ------        --------------  -----  \n",
      " 0   Id            6954 non-null   int64  \n",
      " 1   PassengerId   6954 non-null   object \n",
      " 2   HomePlanet    6786 non-null   object \n",
      " 3   CryoSleep     6777 non-null   object \n",
      " 4   Cabin         6796 non-null   object \n",
      " 5   Destination   6815 non-null   object \n",
      " 6   Age           6806 non-null   float64\n",
      " 7   VIP           6792 non-null   object \n",
      " 8   RoomService   6828 non-null   float64\n",
      " 9   FoodCourt     6814 non-null   float64\n",
      " 10  ShoppingMall  6789 non-null   float64\n",
      " 11  Spa           6820 non-null   float64\n",
      " 12  VRDeck        6803 non-null   float64\n",
      " 13  Name          6795 non-null   object \n",
      " 14  Transported   6954 non-null   float64\n",
      "dtypes: float64(7), int64(1), object(7)\n",
      "memory usage: 869.2+ KB\n"
     ]
    }
   ],
   "source": [
    "train.info()"
   ]
  },
  {
   "cell_type": "code",
   "execution_count": 601,
   "metadata": {
    "execution": {
     "iopub.execute_input": "2022-10-27T01:51:08.577216Z",
     "iopub.status.busy": "2022-10-27T01:51:08.57683Z",
     "iopub.status.idle": "2022-10-27T01:51:08.626686Z",
     "shell.execute_reply": "2022-10-27T01:51:08.625113Z",
     "shell.execute_reply.started": "2022-10-27T01:51:08.57718Z"
    },
    "papermill": {
     "duration": 0.058475,
     "end_time": "2022-10-23T12:28:10.346127",
     "exception": false,
     "start_time": "2022-10-23T12:28:10.287652",
     "status": "completed"
    },
    "tags": []
   },
   "outputs": [
    {
     "data": {
      "text/html": [
       "<div>\n",
       "<style scoped>\n",
       "    .dataframe tbody tr th:only-of-type {\n",
       "        vertical-align: middle;\n",
       "    }\n",
       "\n",
       "    .dataframe tbody tr th {\n",
       "        vertical-align: top;\n",
       "    }\n",
       "\n",
       "    .dataframe thead th {\n",
       "        text-align: right;\n",
       "    }\n",
       "</style>\n",
       "<table border=\"1\" class=\"dataframe\">\n",
       "  <thead>\n",
       "    <tr style=\"text-align: right;\">\n",
       "      <th></th>\n",
       "      <th>count</th>\n",
       "      <th>mean</th>\n",
       "      <th>std</th>\n",
       "      <th>min</th>\n",
       "      <th>25%</th>\n",
       "      <th>50%</th>\n",
       "      <th>75%</th>\n",
       "      <th>max</th>\n",
       "    </tr>\n",
       "  </thead>\n",
       "  <tbody>\n",
       "    <tr>\n",
       "      <th>Id</th>\n",
       "      <td>6954.0</td>\n",
       "      <td>4344.528329</td>\n",
       "      <td>2498.426319</td>\n",
       "      <td>1.0</td>\n",
       "      <td>2192.25</td>\n",
       "      <td>4329.5</td>\n",
       "      <td>6507.75</td>\n",
       "      <td>8692.0</td>\n",
       "    </tr>\n",
       "    <tr>\n",
       "      <th>Age</th>\n",
       "      <td>6806.0</td>\n",
       "      <td>28.828093</td>\n",
       "      <td>14.446399</td>\n",
       "      <td>0.0</td>\n",
       "      <td>19.00</td>\n",
       "      <td>27.0</td>\n",
       "      <td>38.00</td>\n",
       "      <td>79.0</td>\n",
       "    </tr>\n",
       "    <tr>\n",
       "      <th>RoomService</th>\n",
       "      <td>6828.0</td>\n",
       "      <td>222.822935</td>\n",
       "      <td>674.900407</td>\n",
       "      <td>0.0</td>\n",
       "      <td>0.00</td>\n",
       "      <td>0.0</td>\n",
       "      <td>46.00</td>\n",
       "      <td>14327.0</td>\n",
       "    </tr>\n",
       "    <tr>\n",
       "      <th>FoodCourt</th>\n",
       "      <td>6814.0</td>\n",
       "      <td>456.714705</td>\n",
       "      <td>1574.797221</td>\n",
       "      <td>0.0</td>\n",
       "      <td>0.00</td>\n",
       "      <td>0.0</td>\n",
       "      <td>84.75</td>\n",
       "      <td>27723.0</td>\n",
       "    </tr>\n",
       "    <tr>\n",
       "      <th>ShoppingMall</th>\n",
       "      <td>6789.0</td>\n",
       "      <td>175.499043</td>\n",
       "      <td>613.969158</td>\n",
       "      <td>0.0</td>\n",
       "      <td>0.00</td>\n",
       "      <td>0.0</td>\n",
       "      <td>30.00</td>\n",
       "      <td>23492.0</td>\n",
       "    </tr>\n",
       "    <tr>\n",
       "      <th>Spa</th>\n",
       "      <td>6820.0</td>\n",
       "      <td>315.693842</td>\n",
       "      <td>1118.074541</td>\n",
       "      <td>0.0</td>\n",
       "      <td>0.00</td>\n",
       "      <td>0.0</td>\n",
       "      <td>61.25</td>\n",
       "      <td>18572.0</td>\n",
       "    </tr>\n",
       "    <tr>\n",
       "      <th>VRDeck</th>\n",
       "      <td>6803.0</td>\n",
       "      <td>304.189769</td>\n",
       "      <td>1170.639327</td>\n",
       "      <td>0.0</td>\n",
       "      <td>0.00</td>\n",
       "      <td>0.0</td>\n",
       "      <td>49.50</td>\n",
       "      <td>24133.0</td>\n",
       "    </tr>\n",
       "    <tr>\n",
       "      <th>Transported</th>\n",
       "      <td>6954.0</td>\n",
       "      <td>0.503307</td>\n",
       "      <td>0.500025</td>\n",
       "      <td>0.0</td>\n",
       "      <td>0.00</td>\n",
       "      <td>1.0</td>\n",
       "      <td>1.00</td>\n",
       "      <td>1.0</td>\n",
       "    </tr>\n",
       "  </tbody>\n",
       "</table>\n",
       "</div>"
      ],
      "text/plain": [
       "               count         mean          std  min      25%     50%      75%  \\\n",
       "Id            6954.0  4344.528329  2498.426319  1.0  2192.25  4329.5  6507.75   \n",
       "Age           6806.0    28.828093    14.446399  0.0    19.00    27.0    38.00   \n",
       "RoomService   6828.0   222.822935   674.900407  0.0     0.00     0.0    46.00   \n",
       "FoodCourt     6814.0   456.714705  1574.797221  0.0     0.00     0.0    84.75   \n",
       "ShoppingMall  6789.0   175.499043   613.969158  0.0     0.00     0.0    30.00   \n",
       "Spa           6820.0   315.693842  1118.074541  0.0     0.00     0.0    61.25   \n",
       "VRDeck        6803.0   304.189769  1170.639327  0.0     0.00     0.0    49.50   \n",
       "Transported   6954.0     0.503307     0.500025  0.0     0.00     1.0     1.00   \n",
       "\n",
       "                  max  \n",
       "Id             8692.0  \n",
       "Age              79.0  \n",
       "RoomService   14327.0  \n",
       "FoodCourt     27723.0  \n",
       "ShoppingMall  23492.0  \n",
       "Spa           18572.0  \n",
       "VRDeck        24133.0  \n",
       "Transported       1.0  "
      ]
     },
     "execution_count": 601,
     "metadata": {},
     "output_type": "execute_result"
    }
   ],
   "source": [
    "train.describe().T"
   ]
  },
  {
   "cell_type": "markdown",
   "metadata": {
    "execution": {
     "iopub.execute_input": "2022-10-23T11:48:18.341381Z",
     "iopub.status.busy": "2022-10-23T11:48:18.340868Z",
     "iopub.status.idle": "2022-10-23T11:48:18.347507Z",
     "shell.execute_reply": "2022-10-23T11:48:18.346008Z",
     "shell.execute_reply.started": "2022-10-23T11:48:18.34134Z"
    },
    "papermill": {
     "duration": 0.011096,
     "end_time": "2022-10-23T12:28:10.368592",
     "exception": false,
     "start_time": "2022-10-23T12:28:10.357496",
     "status": "completed"
    },
    "tags": []
   },
   "source": [
    "# data visualization"
   ]
  },
  {
   "cell_type": "code",
   "execution_count": 602,
   "metadata": {
    "execution": {
     "iopub.execute_input": "2022-10-27T01:51:08.631125Z",
     "iopub.status.busy": "2022-10-27T01:51:08.630709Z",
     "iopub.status.idle": "2022-10-27T01:51:08.765666Z",
     "shell.execute_reply": "2022-10-27T01:51:08.764314Z",
     "shell.execute_reply.started": "2022-10-27T01:51:08.631093Z"
    },
    "papermill": {
     "duration": 0.243264,
     "end_time": "2022-10-23T12:28:10.623308",
     "exception": false,
     "start_time": "2022-10-23T12:28:10.380044",
     "status": "completed"
    },
    "tags": []
   },
   "outputs": [
    {
     "data": {
      "image/png": "[encoded data removed]",
      "text/plain": [
       "<Figure size 504x504 with 1 Axes>"
      ]
     },
     "metadata": {},
     "output_type": "display_data"
    }
   ],
   "source": [
    "# Transported\n",
    "\n",
    "plt.figure(figsize=(7,7))\n",
    "train['Transported'].value_counts().plot.pie(explode = [0.05, 0.05] , \n",
    "                                             autopct = '%1.1f%%' , \n",
    "                                             textprops = {'fontsize' : 16 })\n",
    "plt.show();"
   ]
  },
  {
   "cell_type": "code",
   "execution_count": 603,
   "metadata": {
    "execution": {
     "iopub.execute_input": "2022-10-27T01:51:08.769364Z",
     "iopub.status.busy": "2022-10-27T01:51:08.768465Z",
     "iopub.status.idle": "2022-10-27T01:51:09.618328Z",
     "shell.execute_reply": "2022-10-27T01:51:09.616553Z",
     "shell.execute_reply.started": "2022-10-27T01:51:08.769288Z"
    },
    "papermill": {
     "duration": 0.747006,
     "end_time": "2022-10-23T12:28:11.40346",
     "exception": false,
     "start_time": "2022-10-23T12:28:10.656454",
     "status": "completed"
    },
    "tags": []
   },
   "outputs": [
    {
     "data": {
      "image/png": "[encoded data removed]",
      "text/plain": [
       "<Figure size 864x504 with 1 Axes>"
      ]
     },
     "metadata": {
      "needs_background": "light"
     },
     "output_type": "display_data"
    }
   ],
   "source": [
    "# Age\n",
    "\n",
    "plt.figure(figsize=(12,7))\n",
    "sns.histplot(data= train, x= 'Age', hue= 'Transported', binwidth = 1, kde = True)\n",
    "plt.xlabel('Age')\n",
    "plt.ylabel('Transported Count')\n",
    "plt.show();"
   ]
  },
  {
   "cell_type": "code",
   "execution_count": 604,
   "metadata": {
    "execution": {
     "iopub.execute_input": "2022-10-27T01:51:09.620918Z",
     "iopub.status.busy": "2022-10-27T01:51:09.620508Z",
     "iopub.status.idle": "2022-10-27T01:51:10.398036Z",
     "shell.execute_reply": "2022-10-27T01:51:10.396507Z",
     "shell.execute_reply.started": "2022-10-27T01:51:09.620879Z"
    },
    "papermill": {
     "duration": 0.816546,
     "end_time": "2022-10-23T12:28:12.232741",
     "exception": false,
     "start_time": "2022-10-23T12:28:11.416195",
     "status": "completed"
    },
    "tags": []
   },
   "outputs": [
    {
     "data": {
      "image/png": "[encoded data removed]",
      "text/plain": [
       "<Figure size 1080x1080 with 4 Axes>"
      ]
     },
     "metadata": {
      "needs_background": "light"
     },
     "output_type": "display_data"
    }
   ],
   "source": [
    "# Categorical\n",
    "\n",
    "graph_cat = ['HomePlanet' , 'CryoSleep' , 'Destination' , 'VIP']\n",
    "\n",
    "fig = plt.figure(figsize= (15,15))\n",
    "\n",
    "for i, name in enumerate(graph_cat):\n",
    "    \n",
    "    ax = fig.add_subplot(4, 1, i+1)\n",
    "    sns.countplot(data= train, axes= ax, x= name, hue= 'Transported')"
   ]
  },
  {
   "cell_type": "code",
   "execution_count": 605,
   "metadata": {
    "execution": {
     "iopub.execute_input": "2022-10-27T01:51:10.4001Z",
     "iopub.status.busy": "2022-10-27T01:51:10.399627Z",
     "iopub.status.idle": "2022-10-27T01:51:10.771419Z",
     "shell.execute_reply": "2022-10-27T01:51:10.770244Z",
     "shell.execute_reply.started": "2022-10-27T01:51:10.400063Z"
    },
    "papermill": {
     "duration": 0.394291,
     "end_time": "2022-10-23T12:28:12.640868",
     "exception": false,
     "start_time": "2022-10-23T12:28:12.246577",
     "status": "completed"
    },
    "tags": []
   },
   "outputs": [
    {
     "data": {
      "image/png": "[encoded data removed]",
      "text/plain": [
       "<Figure size 432x288 with 1 Axes>"
      ]
     },
     "metadata": {
      "needs_background": "light"
     },
     "output_type": "display_data"
    }
   ],
   "source": [
    "# Numerical \n",
    "\n",
    "sns.distplot(train['RoomService']);"
   ]
  },
  {
   "cell_type": "code",
   "execution_count": 606,
   "metadata": {
    "execution": {
     "iopub.execute_input": "2022-10-27T01:51:10.773773Z",
     "iopub.status.busy": "2022-10-27T01:51:10.773377Z",
     "iopub.status.idle": "2022-10-27T01:51:11.085185Z",
     "shell.execute_reply": "2022-10-27T01:51:11.084001Z",
     "shell.execute_reply.started": "2022-10-27T01:51:10.773735Z"
    },
    "papermill": {
     "duration": 0.325071,
     "end_time": "2022-10-23T12:28:12.980378",
     "exception": false,
     "start_time": "2022-10-23T12:28:12.655307",
     "status": "completed"
    },
    "tags": []
   },
   "outputs": [
    {
     "data": {
      "image/png": "[encoded data removed]",
      "text/plain": [
       "<Figure size 432x288 with 1 Axes>"
      ]
     },
     "metadata": {
      "needs_background": "light"
     },
     "output_type": "display_data"
    }
   ],
   "source": [
    "sns.distplot(np.log(train['RoomService']+1));"
   ]
  },
  {
   "cell_type": "markdown",
   "metadata": {
    "papermill": {
     "duration": 0.014798,
     "end_time": "2022-10-23T12:28:13.00973",
     "exception": false,
     "start_time": "2022-10-23T12:28:12.994932",
     "status": "completed"
    },
    "tags": []
   },
   "source": [
    "# missing value"
   ]
  },
  {
   "cell_type": "code",
   "execution_count": 607,
   "metadata": {
    "execution": {
     "iopub.execute_input": "2022-10-27T01:51:11.087336Z",
     "iopub.status.busy": "2022-10-27T01:51:11.086909Z",
     "iopub.status.idle": "2022-10-27T01:51:11.104075Z",
     "shell.execute_reply": "2022-10-27T01:51:11.102935Z",
     "shell.execute_reply.started": "2022-10-27T01:51:11.087298Z"
    },
    "papermill": {
     "duration": 0.031846,
     "end_time": "2022-10-23T12:28:13.056092",
     "exception": false,
     "start_time": "2022-10-23T12:28:13.024246",
     "status": "completed"
    },
    "tags": []
   },
   "outputs": [
    {
     "data": {
      "text/plain": [
       "Id                0\n",
       "PassengerId       0\n",
       "HomePlanet      168\n",
       "CryoSleep       177\n",
       "Cabin           158\n",
       "Destination     139\n",
       "Age             148\n",
       "VIP             162\n",
       "RoomService     126\n",
       "FoodCourt       140\n",
       "ShoppingMall    165\n",
       "Spa             134\n",
       "VRDeck          151\n",
       "Name            159\n",
       "Transported       0\n",
       "dtype: int64"
      ]
     },
     "execution_count": 607,
     "metadata": {},
     "output_type": "execute_result"
    }
   ],
   "source": [
    "train.isnull().sum()"
   ]
  },
  {
   "cell_type": "code",
   "execution_count": 608,
   "metadata": {
    "execution": {
     "iopub.execute_input": "2022-10-27T01:51:11.106549Z",
     "iopub.status.busy": "2022-10-27T01:51:11.105625Z",
     "iopub.status.idle": "2022-10-27T01:51:11.119916Z",
     "shell.execute_reply": "2022-10-27T01:51:11.118163Z",
     "shell.execute_reply.started": "2022-10-27T01:51:11.106504Z"
    },
    "papermill": {
     "duration": 0.031325,
     "end_time": "2022-10-23T12:28:13.101357",
     "exception": false,
     "start_time": "2022-10-23T12:28:13.070032",
     "status": "completed"
    },
    "tags": []
   },
   "outputs": [
    {
     "data": {
      "text/plain": [
       "Id               0\n",
       "PassengerId      0\n",
       "HomePlanet      33\n",
       "CryoSleep       40\n",
       "Cabin           41\n",
       "Destination     43\n",
       "Age             31\n",
       "VIP             41\n",
       "RoomService     55\n",
       "FoodCourt       43\n",
       "ShoppingMall    43\n",
       "Spa             49\n",
       "VRDeck          37\n",
       "Name            41\n",
       "dtype: int64"
      ]
     },
     "execution_count": 608,
     "metadata": {},
     "output_type": "execute_result"
    }
   ],
   "source": [
    "test.isnull().sum()"
   ]
  },
  {
   "cell_type": "code",
   "execution_count": 609,
   "metadata": {
    "execution": {
     "iopub.execute_input": "2022-10-27T01:51:11.121934Z",
     "iopub.status.busy": "2022-10-27T01:51:11.121561Z",
     "iopub.status.idle": "2022-10-27T01:51:11.138957Z",
     "shell.execute_reply": "2022-10-27T01:51:11.137726Z",
     "shell.execute_reply.started": "2022-10-27T01:51:11.121901Z"
    },
    "papermill": {
     "duration": 0.040258,
     "end_time": "2022-10-23T12:28:13.156111",
     "exception": false,
     "start_time": "2022-10-23T12:28:13.115853",
     "status": "completed"
    },
    "tags": []
   },
   "outputs": [],
   "source": [
    "# Age\n",
    "\n",
    "train_test = [train, test]\n",
    "\n",
    "for data_age in train_test:\n",
    "    \n",
    "    mean = data_age['Age'].mean()\n",
    "    std = data_age['Age'].std()\n",
    "    is_null = data_age['Age'].isnull().sum()\n",
    "    rand_age = np.random.randint(mean - std, mean + std, size = is_null)\n",
    "    age = data_age['Age'].copy()\n",
    "    age[np.isnan(age)] = rand_age\n",
    "    data_age['Age'] = age\n",
    "    data_age['Age'] = data_age['Age'].astype(int)"
   ]
  },
  {
   "cell_type": "code",
   "execution_count": 610,
   "metadata": {
    "execution": {
     "iopub.execute_input": "2022-10-27T01:51:11.141367Z",
     "iopub.status.busy": "2022-10-27T01:51:11.14035Z",
     "iopub.status.idle": "2022-10-27T01:51:11.166005Z",
     "shell.execute_reply": "2022-10-27T01:51:11.164438Z",
     "shell.execute_reply.started": "2022-10-27T01:51:11.141324Z"
    },
    "papermill": {
     "duration": 0.054252,
     "end_time": "2022-10-23T12:28:13.225839",
     "exception": false,
     "start_time": "2022-10-23T12:28:13.171587",
     "status": "completed"
    },
    "tags": []
   },
   "outputs": [],
   "source": [
    "# Categorical \n",
    "\n",
    "for data_obj in train_test:\n",
    "    \n",
    "    data_obj['HomePlanet'] = data_obj['HomePlanet'].fillna(data_obj['HomePlanet'].mode()[0])\n",
    "    data_obj['CryoSleep'] = data_obj['CryoSleep'].fillna(data_obj['CryoSleep'].mode()[0])\n",
    "    data_obj['Cabin'] = data_obj['Cabin'].fillna(data_obj['Cabin'].mode()[0])\n",
    "    data_obj['Destination'] = data_obj['Destination'].fillna(data_obj['Destination'].mode()[0])\n",
    "    data_obj['VIP'] = data_obj['VIP'].fillna(data_obj['VIP'].mode()[0])"
   ]
  },
  {
   "cell_type": "code",
   "execution_count": 611,
   "metadata": {
    "execution": {
     "iopub.execute_input": "2022-10-27T01:51:11.169266Z",
     "iopub.status.busy": "2022-10-27T01:51:11.168408Z",
     "iopub.status.idle": "2022-10-27T01:51:11.187608Z",
     "shell.execute_reply": "2022-10-27T01:51:11.186249Z",
     "shell.execute_reply.started": "2022-10-27T01:51:11.169214Z"
    },
    "papermill": {
     "duration": 0.033728,
     "end_time": "2022-10-23T12:28:13.274831",
     "exception": false,
     "start_time": "2022-10-23T12:28:13.241103",
     "status": "completed"
    },
    "tags": []
   },
   "outputs": [
    {
     "data": {
      "text/plain": [
       "Id                0\n",
       "PassengerId       0\n",
       "HomePlanet        0\n",
       "CryoSleep         0\n",
       "Cabin             0\n",
       "Destination       0\n",
       "Age               0\n",
       "VIP               0\n",
       "RoomService     126\n",
       "FoodCourt       140\n",
       "ShoppingMall    165\n",
       "Spa             134\n",
       "VRDeck          151\n",
       "Name            159\n",
       "Transported       0\n",
       "dtype: int64"
      ]
     },
     "execution_count": 611,
     "metadata": {},
     "output_type": "execute_result"
    }
   ],
   "source": [
    "train.isnull().sum()"
   ]
  },
  {
   "cell_type": "code",
   "execution_count": 612,
   "metadata": {
    "execution": {
     "iopub.execute_input": "2022-10-27T01:51:11.191382Z",
     "iopub.status.busy": "2022-10-27T01:51:11.190457Z",
     "iopub.status.idle": "2022-10-27T01:51:11.21584Z",
     "shell.execute_reply": "2022-10-27T01:51:11.214561Z",
     "shell.execute_reply.started": "2022-10-27T01:51:11.191333Z"
    },
    "papermill": {
     "duration": 0.041862,
     "end_time": "2022-10-23T12:28:13.332272",
     "exception": false,
     "start_time": "2022-10-23T12:28:13.29041",
     "status": "completed"
    },
    "tags": []
   },
   "outputs": [],
   "source": [
    "# Numerical \n",
    "\n",
    "for data_num in train_test:\n",
    "    \n",
    "    data_num['RoomService'] = np.log(data_num['Spa']+1) \n",
    "    data_num['ShoppingMall'] = np.log(data_num['ShoppingMall']+1) \n",
    "    data_num['Spa'] = np.log(data_num['Spa']+1) \n",
    "    data_num['VRDeck'] = np.log(data_num['VRDeck']+1) \n",
    "    data_num['FoodCourt'] = np.log(data_num['FoodCourt']+1) \n",
    "\n",
    "    data_num['RoomService'] = data_num['RoomService'].fillna(data_num['RoomService'].median())\n",
    "    data_num['ShoppingMall'] = data_num['ShoppingMall'].fillna(data_num['ShoppingMall'].median())\n",
    "    data_num['Spa'] = data_num['Spa'].fillna(data_num['Spa'].median())\n",
    "    data_num['VRDeck'] = data_num['VRDeck'].fillna(data_num['VRDeck'].median())\n",
    "    data_num['FoodCourt'] = data_num['FoodCourt'].fillna(data_num['FoodCourt'].median())"
   ]
  },
  {
   "cell_type": "code",
   "execution_count": 613,
   "metadata": {
    "execution": {
     "iopub.execute_input": "2022-10-27T01:51:11.218348Z",
     "iopub.status.busy": "2022-10-27T01:51:11.217845Z",
     "iopub.status.idle": "2022-10-27T01:51:11.231618Z",
     "shell.execute_reply": "2022-10-27T01:51:11.23073Z",
     "shell.execute_reply.started": "2022-10-27T01:51:11.218299Z"
    },
    "papermill": {
     "duration": 0.034232,
     "end_time": "2022-10-23T12:28:13.383105",
     "exception": false,
     "start_time": "2022-10-23T12:28:13.348873",
     "status": "completed"
    },
    "tags": []
   },
   "outputs": [
    {
     "data": {
      "text/plain": [
       "Id                0\n",
       "PassengerId       0\n",
       "HomePlanet        0\n",
       "CryoSleep         0\n",
       "Cabin             0\n",
       "Destination       0\n",
       "Age               0\n",
       "VIP               0\n",
       "RoomService       0\n",
       "FoodCourt         0\n",
       "ShoppingMall      0\n",
       "Spa               0\n",
       "VRDeck            0\n",
       "Name            159\n",
       "Transported       0\n",
       "dtype: int64"
      ]
     },
     "execution_count": 613,
     "metadata": {},
     "output_type": "execute_result"
    }
   ],
   "source": [
    "train.isnull().sum()"
   ]
  },
  {
   "cell_type": "code",
   "execution_count": 614,
   "metadata": {
    "execution": {
     "iopub.execute_input": "2022-10-27T01:51:11.233864Z",
     "iopub.status.busy": "2022-10-27T01:51:11.233168Z",
     "iopub.status.idle": "2022-10-27T01:51:11.250259Z",
     "shell.execute_reply": "2022-10-27T01:51:11.248454Z",
     "shell.execute_reply.started": "2022-10-27T01:51:11.233809Z"
    },
    "papermill": {
     "duration": 0.027692,
     "end_time": "2022-10-23T12:28:13.426066",
     "exception": false,
     "start_time": "2022-10-23T12:28:13.398374",
     "status": "completed"
    },
    "tags": []
   },
   "outputs": [],
   "source": [
    "# Drop Name\n",
    "\n",
    "for data_name in train_test:\n",
    "    data_name.drop('Name', axis=1, inplace=True)"
   ]
  },
  {
   "cell_type": "code",
   "execution_count": 615,
   "metadata": {
    "execution": {
     "iopub.execute_input": "2022-10-27T01:51:11.253151Z",
     "iopub.status.busy": "2022-10-27T01:51:11.252573Z",
     "iopub.status.idle": "2022-10-27T01:51:11.269679Z",
     "shell.execute_reply": "2022-10-27T01:51:11.268227Z",
     "shell.execute_reply.started": "2022-10-27T01:51:11.253061Z"
    },
    "papermill": {
     "duration": 0.029853,
     "end_time": "2022-10-23T12:28:13.471129",
     "exception": false,
     "start_time": "2022-10-23T12:28:13.441276",
     "status": "completed"
    },
    "tags": []
   },
   "outputs": [
    {
     "data": {
      "text/plain": [
       "Id              0\n",
       "PassengerId     0\n",
       "HomePlanet      0\n",
       "CryoSleep       0\n",
       "Cabin           0\n",
       "Destination     0\n",
       "Age             0\n",
       "VIP             0\n",
       "RoomService     0\n",
       "FoodCourt       0\n",
       "ShoppingMall    0\n",
       "Spa             0\n",
       "VRDeck          0\n",
       "Transported     0\n",
       "dtype: int64"
      ]
     },
     "execution_count": 615,
     "metadata": {},
     "output_type": "execute_result"
    }
   ],
   "source": [
    "train.isnull().sum()"
   ]
  },
  {
   "cell_type": "code",
   "execution_count": 616,
   "metadata": {
    "execution": {
     "iopub.execute_input": "2022-10-27T01:51:11.271727Z",
     "iopub.status.busy": "2022-10-27T01:51:11.271242Z",
     "iopub.status.idle": "2022-10-27T01:51:11.287718Z",
     "shell.execute_reply": "2022-10-27T01:51:11.285995Z",
     "shell.execute_reply.started": "2022-10-27T01:51:11.271681Z"
    },
    "papermill": {
     "duration": 0.036288,
     "end_time": "2022-10-23T12:28:13.522461",
     "exception": false,
     "start_time": "2022-10-23T12:28:13.486173",
     "status": "completed"
    },
    "tags": []
   },
   "outputs": [],
   "source": [
    "def boolean_to_numerical(df, col):\n",
    "    df.loc[df[col] == False, col] = 0\n",
    "    df.loc[df[col] == True, col] = 1\n",
    "    return df[col]\n",
    "\n",
    "\n",
    "# Label Encoding \n",
    "for data in train_test:\n",
    "    \n",
    "    data['HomePlanet'] =data['HomePlanet'].astype('category').cat.codes\n",
    "    data['Destination'] =data['Destination'].astype('category').cat.codes\n",
    "    data['CryoSleep'] = boolean_to_numerical(data, 'CryoSleep').astype(int)\n",
    "    data['VIP'] = boolean_to_numerical(data, 'VIP').astype(int)\n",
    "    \n",
    "    data['Spending'] = data['RoomService'] + data['FoodCourt'] + data['ShoppingMall'] + data['Spa']+ data['VRDeck']\n",
    "    \n",
    "    # type conversion of columns\n",
    "    for col in ['RoomService', 'FoodCourt', 'ShoppingMall', 'Spa', 'VRDeck', 'Spending']:\n",
    "        data[col] = data[col].astype(int)"
   ]
  },
  {
   "cell_type": "code",
   "execution_count": 617,
   "metadata": {
    "execution": {
     "iopub.execute_input": "2022-10-27T01:51:11.29684Z",
     "iopub.status.busy": "2022-10-27T01:51:11.295679Z",
     "iopub.status.idle": "2022-10-27T01:51:12.404722Z",
     "shell.execute_reply": "2022-10-27T01:51:12.403346Z",
     "shell.execute_reply.started": "2022-10-27T01:51:11.296798Z"
    },
    "papermill": {
     "duration": 1.046614,
     "end_time": "2022-10-23T12:28:14.583797",
     "exception": false,
     "start_time": "2022-10-23T12:28:13.537183",
     "status": "completed"
    },
    "tags": []
   },
   "outputs": [
    {
     "data": {
      "image/png": "[encoded data removed]",
      "text/plain": [
       "<Figure size 1080x648 with 2 Axes>"
      ]
     },
     "metadata": {
      "needs_background": "light"
     },
     "output_type": "display_data"
    }
   ],
   "source": [
    "# Corr Matrix\n",
    "\n",
    "corr = train.corr()\n",
    "plt.figure(figsize=(15,9))\n",
    "sns.heatmap(corr, annot= True, cmap= 'coolwarm');"
   ]
  },
  {
   "cell_type": "code",
   "execution_count": 618,
   "metadata": {},
   "outputs": [
    {
     "data": {
      "image/png": "[encoded data removed]",
      "text/plain": [
       "<Figure size 864x504 with 1 Axes>"
      ]
     },
     "metadata": {
      "needs_background": "light"
     },
     "output_type": "display_data"
    }
   ],
   "source": [
    "plt.figure(figsize=(12,7))\n",
    "sns.histplot(data= train, x= 'ShoppingMall', hue= 'Transported', binwidth = 1, kde = True)\n",
    "plt.xlabel('Age')\n",
    "plt.ylabel('Transported Count')\n",
    "plt.show();"
   ]
  },
  {
   "cell_type": "code",
   "execution_count": 619,
   "metadata": {},
   "outputs": [],
   "source": [
    "# data cleaning\n",
    "train = train.drop('Cabin', axis= 1)\n",
    "test = test.drop('Cabin', axis= 1)\n",
    "\n",
    "train = train.drop('PassengerId', axis= 1)\n",
    "test = test.drop('PassengerId', axis= 1)\n",
    "\n",
    "train = train.drop('Id', axis= 1)\n",
    "test = test.drop('Id', axis= 1)\n",
    "\n",
    "\"\"\"\n",
    "train = train.drop('RoomService', axis= 1)\n",
    "test = test.drop('RoomService', axis= 1)\n",
    "\n",
    "train = train.drop('FoodCourt', axis= 1)\n",
    "test = test.drop('FoodCourt', axis= 1)\n",
    "\n",
    "train = train.drop('ShoppingMall', axis= 1)\n",
    "test = test.drop('ShoppingMall', axis= 1)\n",
    "\n",
    "train = train.drop('Spa', axis= 1)\n",
    "test = test.drop('Spa', axis= 1)\n",
    "\n",
    "train = train.drop('VRDeck', axis= 1)\n",
    "test = test.drop('VRDeck', axis= 1)\n",
    "\"\"\"\n",
    "\n",
    "train = train.drop('Spending', axis= 1)\n",
    "test = test.drop('Spending', axis= 1)"
   ]
  },
  {
   "cell_type": "markdown",
   "metadata": {
    "papermill": {
     "duration": 0.015093,
     "end_time": "2022-10-23T12:28:14.663138",
     "exception": false,
     "start_time": "2022-10-23T12:28:14.648045",
     "status": "completed"
    },
    "tags": []
   },
   "source": [
    "# model"
   ]
  },
  {
   "cell_type": "code",
   "execution_count": 620,
   "metadata": {
    "execution": {
     "iopub.execute_input": "2022-10-27T01:51:12.417977Z",
     "iopub.status.busy": "2022-10-27T01:51:12.417524Z",
     "iopub.status.idle": "2022-10-27T01:51:12.433043Z",
     "shell.execute_reply": "2022-10-27T01:51:12.431496Z",
     "shell.execute_reply.started": "2022-10-27T01:51:12.417938Z"
    },
    "papermill": {
     "duration": 0.027796,
     "end_time": "2022-10-23T12:28:14.706168",
     "exception": false,
     "start_time": "2022-10-23T12:28:14.678372",
     "status": "completed"
    },
    "tags": []
   },
   "outputs": [],
   "source": [
    "X = train.drop('Transported', axis=1)\n",
    "y = train['Transported']\n",
    "X_test = test "
   ]
  },
  {
   "cell_type": "code",
   "execution_count": 621,
   "metadata": {
    "execution": {
     "iopub.execute_input": "2022-10-27T01:51:12.435423Z",
     "iopub.status.busy": "2022-10-27T01:51:12.434959Z",
     "iopub.status.idle": "2022-10-27T01:51:12.457233Z",
     "shell.execute_reply": "2022-10-27T01:51:12.455911Z",
     "shell.execute_reply.started": "2022-10-27T01:51:12.435374Z"
    },
    "papermill": {
     "duration": 0.036443,
     "end_time": "2022-10-23T12:28:14.758562",
     "exception": false,
     "start_time": "2022-10-23T12:28:14.722119",
     "status": "completed"
    },
    "tags": []
   },
   "outputs": [
    {
     "data": {
      "text/html": [
       "<div>\n",
       "<style scoped>\n",
       "    .dataframe tbody tr th:only-of-type {\n",
       "        vertical-align: middle;\n",
       "    }\n",
       "\n",
       "    .dataframe tbody tr th {\n",
       "        vertical-align: top;\n",
       "    }\n",
       "\n",
       "    .dataframe thead th {\n",
       "        text-align: right;\n",
       "    }\n",
       "</style>\n",
       "<table border=\"1\" class=\"dataframe\">\n",
       "  <thead>\n",
       "    <tr style=\"text-align: right;\">\n",
       "      <th></th>\n",
       "      <th>HomePlanet</th>\n",
       "      <th>CryoSleep</th>\n",
       "      <th>Destination</th>\n",
       "      <th>Age</th>\n",
       "      <th>VIP</th>\n",
       "      <th>Spending</th>\n",
       "    </tr>\n",
       "  </thead>\n",
       "  <tbody>\n",
       "    <tr>\n",
       "      <th>1</th>\n",
       "      <td>0</td>\n",
       "      <td>0</td>\n",
       "      <td>2</td>\n",
       "      <td>24</td>\n",
       "      <td>0</td>\n",
       "      <td>21</td>\n",
       "    </tr>\n",
       "    <tr>\n",
       "      <th>2</th>\n",
       "      <td>1</td>\n",
       "      <td>0</td>\n",
       "      <td>2</td>\n",
       "      <td>58</td>\n",
       "      <td>1</td>\n",
       "      <td>29</td>\n",
       "    </tr>\n",
       "    <tr>\n",
       "      <th>3</th>\n",
       "      <td>1</td>\n",
       "      <td>0</td>\n",
       "      <td>2</td>\n",
       "      <td>33</td>\n",
       "      <td>0</td>\n",
       "      <td>34</td>\n",
       "    </tr>\n",
       "    <tr>\n",
       "      <th>4</th>\n",
       "      <td>0</td>\n",
       "      <td>0</td>\n",
       "      <td>2</td>\n",
       "      <td>16</td>\n",
       "      <td>0</td>\n",
       "      <td>23</td>\n",
       "    </tr>\n",
       "    <tr>\n",
       "      <th>5</th>\n",
       "      <td>0</td>\n",
       "      <td>0</td>\n",
       "      <td>1</td>\n",
       "      <td>44</td>\n",
       "      <td>0</td>\n",
       "      <td>17</td>\n",
       "    </tr>\n",
       "  </tbody>\n",
       "</table>\n",
       "</div>"
      ],
      "text/plain": [
       "   HomePlanet  CryoSleep  Destination  Age  VIP  Spending\n",
       "1           0          0            2   24    0        21\n",
       "2           1          0            2   58    1        29\n",
       "3           1          0            2   33    0        34\n",
       "4           0          0            2   16    0        23\n",
       "5           0          0            1   44    0        17"
      ]
     },
     "execution_count": 621,
     "metadata": {},
     "output_type": "execute_result"
    }
   ],
   "source": [
    "X.head()"
   ]
  },
  {
   "cell_type": "code",
   "execution_count": 622,
   "metadata": {
    "execution": {
     "iopub.execute_input": "2022-10-27T01:51:12.459531Z",
     "iopub.status.busy": "2022-10-27T01:51:12.459043Z",
     "iopub.status.idle": "2022-10-27T01:51:12.472932Z",
     "shell.execute_reply": "2022-10-27T01:51:12.471917Z",
     "shell.execute_reply.started": "2022-10-27T01:51:12.459482Z"
    },
    "papermill": {
     "duration": 0.028977,
     "end_time": "2022-10-23T12:28:14.80386",
     "exception": false,
     "start_time": "2022-10-23T12:28:14.774883",
     "status": "completed"
    },
    "tags": []
   },
   "outputs": [
    {
     "data": {
      "text/plain": [
       "1    1.0\n",
       "2    0.0\n",
       "3    0.0\n",
       "4    1.0\n",
       "5    1.0\n",
       "Name: Transported, dtype: float64"
      ]
     },
     "execution_count": 622,
     "metadata": {},
     "output_type": "execute_result"
    }
   ],
   "source": [
    "y.head()"
   ]
  },
  {
   "cell_type": "code",
   "execution_count": 623,
   "metadata": {
    "execution": {
     "iopub.execute_input": "2022-10-27T01:51:12.474578Z",
     "iopub.status.busy": "2022-10-27T01:51:12.474187Z",
     "iopub.status.idle": "2022-10-27T01:51:12.495243Z",
     "shell.execute_reply": "2022-10-27T01:51:12.493901Z",
     "shell.execute_reply.started": "2022-10-27T01:51:12.474531Z"
    },
    "papermill": {
     "duration": 0.036386,
     "end_time": "2022-10-23T12:28:14.856594",
     "exception": false,
     "start_time": "2022-10-23T12:28:14.820208",
     "status": "completed"
    },
    "tags": []
   },
   "outputs": [
    {
     "data": {
      "text/html": [
       "<div>\n",
       "<style scoped>\n",
       "    .dataframe tbody tr th:only-of-type {\n",
       "        vertical-align: middle;\n",
       "    }\n",
       "\n",
       "    .dataframe tbody tr th {\n",
       "        vertical-align: top;\n",
       "    }\n",
       "\n",
       "    .dataframe thead th {\n",
       "        text-align: right;\n",
       "    }\n",
       "</style>\n",
       "<table border=\"1\" class=\"dataframe\">\n",
       "  <thead>\n",
       "    <tr style=\"text-align: right;\">\n",
       "      <th></th>\n",
       "      <th>HomePlanet</th>\n",
       "      <th>CryoSleep</th>\n",
       "      <th>Destination</th>\n",
       "      <th>Age</th>\n",
       "      <th>VIP</th>\n",
       "      <th>Spending</th>\n",
       "    </tr>\n",
       "  </thead>\n",
       "  <tbody>\n",
       "    <tr>\n",
       "      <th>0</th>\n",
       "      <td>2</td>\n",
       "      <td>0</td>\n",
       "      <td>2</td>\n",
       "      <td>19</td>\n",
       "      <td>0</td>\n",
       "      <td>22</td>\n",
       "    </tr>\n",
       "    <tr>\n",
       "      <th>1</th>\n",
       "      <td>0</td>\n",
       "      <td>0</td>\n",
       "      <td>2</td>\n",
       "      <td>18</td>\n",
       "      <td>0</td>\n",
       "      <td>7</td>\n",
       "    </tr>\n",
       "    <tr>\n",
       "      <th>2</th>\n",
       "      <td>0</td>\n",
       "      <td>1</td>\n",
       "      <td>2</td>\n",
       "      <td>41</td>\n",
       "      <td>0</td>\n",
       "      <td>0</td>\n",
       "    </tr>\n",
       "    <tr>\n",
       "      <th>3</th>\n",
       "      <td>0</td>\n",
       "      <td>0</td>\n",
       "      <td>2</td>\n",
       "      <td>35</td>\n",
       "      <td>0</td>\n",
       "      <td>11</td>\n",
       "    </tr>\n",
       "    <tr>\n",
       "      <th>4</th>\n",
       "      <td>1</td>\n",
       "      <td>1</td>\n",
       "      <td>2</td>\n",
       "      <td>43</td>\n",
       "      <td>0</td>\n",
       "      <td>0</td>\n",
       "    </tr>\n",
       "  </tbody>\n",
       "</table>\n",
       "</div>"
      ],
      "text/plain": [
       "   HomePlanet  CryoSleep  Destination  Age  VIP  Spending\n",
       "0           2          0            2   19    0        22\n",
       "1           0          0            2   18    0         7\n",
       "2           0          1            2   41    0         0\n",
       "3           0          0            2   35    0        11\n",
       "4           1          1            2   43    0         0"
      ]
     },
     "execution_count": 623,
     "metadata": {},
     "output_type": "execute_result"
    }
   ],
   "source": [
    "X_test.head()"
   ]
  },
  {
   "cell_type": "code",
   "execution_count": 624,
   "metadata": {
    "execution": {
     "iopub.execute_input": "2022-10-27T01:51:12.497725Z",
     "iopub.status.busy": "2022-10-27T01:51:12.496954Z",
     "iopub.status.idle": "2022-10-27T01:51:12.506812Z",
     "shell.execute_reply": "2022-10-27T01:51:12.505619Z",
     "shell.execute_reply.started": "2022-10-27T01:51:12.497674Z"
    },
    "papermill": {
     "duration": 0.304254,
     "end_time": "2022-10-23T12:28:15.40766",
     "exception": false,
     "start_time": "2022-10-23T12:28:15.103406",
     "status": "completed"
    },
    "tags": []
   },
   "outputs": [],
   "source": [
    "from sklearn.model_selection import train_test_split, cross_val_score"
   ]
  },
  {
   "cell_type": "code",
   "execution_count": 625,
   "metadata": {
    "execution": {
     "iopub.execute_input": "2022-10-27T01:51:12.50948Z",
     "iopub.status.busy": "2022-10-27T01:51:12.508216Z",
     "iopub.status.idle": "2022-10-27T01:51:12.521253Z",
     "shell.execute_reply": "2022-10-27T01:51:12.519751Z",
     "shell.execute_reply.started": "2022-10-27T01:51:12.509436Z"
    },
    "papermill": {
     "duration": 0.029001,
     "end_time": "2022-10-23T12:28:15.453404",
     "exception": false,
     "start_time": "2022-10-23T12:28:15.424403",
     "status": "completed"
    },
    "tags": []
   },
   "outputs": [],
   "source": [
    "def classify(model, xx, yy):\n",
    "    \n",
    "    x_train, x_test, y_train, y_test = train_test_split(xx, yy, test_size=0.2, random_state= 42)\n",
    "    model.fit(x_train, y_train)\n",
    "    print('Accuracy: ', model.score(x_test, y_test))\n",
    "    \n",
    "    score = cross_val_score(model, X, y, cv=5)\n",
    "    print('CV Score: ', np.mean(score))"
   ]
  },
  {
   "cell_type": "code",
   "execution_count": 652,
   "metadata": {
    "execution": {
     "iopub.execute_input": "2022-10-27T01:51:12.523634Z",
     "iopub.status.busy": "2022-10-27T01:51:12.523219Z",
     "iopub.status.idle": "2022-10-27T01:51:12.902748Z",
     "shell.execute_reply": "2022-10-27T01:51:12.901435Z",
     "shell.execute_reply.started": "2022-10-27T01:51:12.5236Z"
    },
    "papermill": {
     "duration": 0.692678,
     "end_time": "2022-10-23T12:28:30.750465",
     "exception": false,
     "start_time": "2022-10-23T12:28:30.057787",
     "status": "completed"
    },
    "tags": []
   },
   "outputs": [
    {
     "name": "stdout",
     "output_type": "stream",
     "text": [
      "Accuracy:  0.7045291157440691\n",
      "CV Score:  0.7167114389006407\n"
     ]
    }
   ],
   "source": [
    "from sklearn.neighbors import KNeighborsClassifier\n",
    "k = 18\n",
    "model = KNeighborsClassifier(n_neighbors = k)\n",
    "classify(model, X, y)"
   ]
  },
  {
   "cell_type": "code",
   "execution_count": 653,
   "metadata": {
    "execution": {
     "iopub.execute_input": "2022-10-27T01:51:12.904586Z",
     "iopub.status.busy": "2022-10-27T01:51:12.904187Z",
     "iopub.status.idle": "2022-10-27T01:51:12.931571Z",
     "shell.execute_reply": "2022-10-27T01:51:12.930279Z",
     "shell.execute_reply.started": "2022-10-27T01:51:12.904549Z"
    }
   },
   "outputs": [
    {
     "data": {
      "text/html": [
       "<div>\n",
       "<style scoped>\n",
       "    .dataframe tbody tr th:only-of-type {\n",
       "        vertical-align: middle;\n",
       "    }\n",
       "\n",
       "    .dataframe tbody tr th {\n",
       "        vertical-align: top;\n",
       "    }\n",
       "\n",
       "    .dataframe thead th {\n",
       "        text-align: right;\n",
       "    }\n",
       "</style>\n",
       "<table border=\"1\" class=\"dataframe\">\n",
       "  <thead>\n",
       "    <tr style=\"text-align: right;\">\n",
       "      <th></th>\n",
       "      <th>HomePlanet</th>\n",
       "      <th>CryoSleep</th>\n",
       "      <th>Destination</th>\n",
       "      <th>Age</th>\n",
       "      <th>VIP</th>\n",
       "      <th>Spending</th>\n",
       "    </tr>\n",
       "  </thead>\n",
       "  <tbody>\n",
       "    <tr>\n",
       "      <th>0</th>\n",
       "      <td>2</td>\n",
       "      <td>0</td>\n",
       "      <td>2</td>\n",
       "      <td>19</td>\n",
       "      <td>0</td>\n",
       "      <td>22</td>\n",
       "    </tr>\n",
       "    <tr>\n",
       "      <th>1</th>\n",
       "      <td>0</td>\n",
       "      <td>0</td>\n",
       "      <td>2</td>\n",
       "      <td>18</td>\n",
       "      <td>0</td>\n",
       "      <td>7</td>\n",
       "    </tr>\n",
       "    <tr>\n",
       "      <th>2</th>\n",
       "      <td>0</td>\n",
       "      <td>1</td>\n",
       "      <td>2</td>\n",
       "      <td>41</td>\n",
       "      <td>0</td>\n",
       "      <td>0</td>\n",
       "    </tr>\n",
       "    <tr>\n",
       "      <th>3</th>\n",
       "      <td>0</td>\n",
       "      <td>0</td>\n",
       "      <td>2</td>\n",
       "      <td>35</td>\n",
       "      <td>0</td>\n",
       "      <td>11</td>\n",
       "    </tr>\n",
       "    <tr>\n",
       "      <th>4</th>\n",
       "      <td>1</td>\n",
       "      <td>1</td>\n",
       "      <td>2</td>\n",
       "      <td>43</td>\n",
       "      <td>0</td>\n",
       "      <td>0</td>\n",
       "    </tr>\n",
       "    <tr>\n",
       "      <th>...</th>\n",
       "      <td>...</td>\n",
       "      <td>...</td>\n",
       "      <td>...</td>\n",
       "      <td>...</td>\n",
       "      <td>...</td>\n",
       "      <td>...</td>\n",
       "    </tr>\n",
       "    <tr>\n",
       "      <th>1734</th>\n",
       "      <td>0</td>\n",
       "      <td>1</td>\n",
       "      <td>2</td>\n",
       "      <td>16</td>\n",
       "      <td>0</td>\n",
       "      <td>0</td>\n",
       "    </tr>\n",
       "    <tr>\n",
       "      <th>1735</th>\n",
       "      <td>0</td>\n",
       "      <td>1</td>\n",
       "      <td>2</td>\n",
       "      <td>0</td>\n",
       "      <td>0</td>\n",
       "      <td>0</td>\n",
       "    </tr>\n",
       "    <tr>\n",
       "      <th>1736</th>\n",
       "      <td>0</td>\n",
       "      <td>0</td>\n",
       "      <td>2</td>\n",
       "      <td>17</td>\n",
       "      <td>0</td>\n",
       "      <td>19</td>\n",
       "    </tr>\n",
       "    <tr>\n",
       "      <th>1737</th>\n",
       "      <td>2</td>\n",
       "      <td>1</td>\n",
       "      <td>2</td>\n",
       "      <td>42</td>\n",
       "      <td>0</td>\n",
       "      <td>0</td>\n",
       "    </tr>\n",
       "    <tr>\n",
       "      <th>1738</th>\n",
       "      <td>0</td>\n",
       "      <td>0</td>\n",
       "      <td>2</td>\n",
       "      <td>17</td>\n",
       "      <td>0</td>\n",
       "      <td>14</td>\n",
       "    </tr>\n",
       "  </tbody>\n",
       "</table>\n",
       "<p>1739 rows × 6 columns</p>\n",
       "</div>"
      ],
      "text/plain": [
       "      HomePlanet  CryoSleep  Destination  Age  VIP  Spending\n",
       "0              2          0            2   19    0        22\n",
       "1              0          0            2   18    0         7\n",
       "2              0          1            2   41    0         0\n",
       "3              0          0            2   35    0        11\n",
       "4              1          1            2   43    0         0\n",
       "...          ...        ...          ...  ...  ...       ...\n",
       "1734           0          1            2   16    0         0\n",
       "1735           0          1            2    0    0         0\n",
       "1736           0          0            2   17    0        19\n",
       "1737           2          1            2   42    0         0\n",
       "1738           0          0            2   17    0        14\n",
       "\n",
       "[1739 rows x 6 columns]"
      ]
     },
     "execution_count": 653,
     "metadata": {},
     "output_type": "execute_result"
    }
   ],
   "source": [
    "X_test"
   ]
  },
  {
   "cell_type": "code",
   "execution_count": 654,
   "metadata": {
    "execution": {
     "iopub.execute_input": "2022-10-27T01:51:12.933589Z",
     "iopub.status.busy": "2022-10-27T01:51:12.933197Z",
     "iopub.status.idle": "2022-10-27T01:51:13.049665Z",
     "shell.execute_reply": "2022-10-27T01:51:13.048313Z",
     "shell.execute_reply.started": "2022-10-27T01:51:12.933553Z"
    }
   },
   "outputs": [],
   "source": [
    "# model_rf = RandomForestClassifier(max_depth=12, min_samples_leaf=12, min_samples_split=8, n_estimators=50)\n",
    "# model_rf.fit(x_train, y_train)\n",
    "\n",
    "y_pred = model.predict(X_test)\n",
    "# print(model.score(x_test, y_test))\n",
    "\n",
    "y_submission = model.predict(X_test) "
   ]
  },
  {
   "cell_type": "code",
   "execution_count": 655,
   "metadata": {
    "execution": {
     "iopub.execute_input": "2022-10-27T01:51:13.052007Z",
     "iopub.status.busy": "2022-10-27T01:51:13.051183Z",
     "iopub.status.idle": "2022-10-27T01:51:13.0631Z",
     "shell.execute_reply": "2022-10-27T01:51:13.061564Z",
     "shell.execute_reply.started": "2022-10-27T01:51:13.051965Z"
    }
   },
   "outputs": [],
   "source": [
    "submission = pd.DataFrame({\n",
    "        \"Id\": pd.read_csv('test.csv')[\"Id\"],\n",
    "        \"Transported\": y_submission\n",
    "    })"
   ]
  },
  {
   "cell_type": "code",
   "execution_count": 656,
   "metadata": {
    "execution": {
     "iopub.execute_input": "2022-10-27T01:51:13.065105Z",
     "iopub.status.busy": "2022-10-27T01:51:13.064697Z",
     "iopub.status.idle": "2022-10-27T01:51:13.074407Z",
     "shell.execute_reply": "2022-10-27T01:51:13.072827Z",
     "shell.execute_reply.started": "2022-10-27T01:51:13.065069Z"
    }
   },
   "outputs": [],
   "source": [
    "submission[\"Transported\"] = submission[\"Transported\"].astype(int)"
   ]
  },
  {
   "cell_type": "code",
   "execution_count": 657,
   "metadata": {
    "execution": {
     "iopub.execute_input": "2022-10-27T01:51:13.076621Z",
     "iopub.status.busy": "2022-10-27T01:51:13.076091Z",
     "iopub.status.idle": "2022-10-27T01:51:13.089711Z",
     "shell.execute_reply": "2022-10-27T01:51:13.088111Z",
     "shell.execute_reply.started": "2022-10-27T01:51:13.076579Z"
    }
   },
   "outputs": [],
   "source": [
    "submission.to_csv('submission.csv', index=False)"
   ]
  },
  {
   "cell_type": "markdown",
   "metadata": {
    "papermill": {
     "duration": 0.017289,
     "end_time": "2022-10-23T12:28:30.785415",
     "exception": false,
     "start_time": "2022-10-23T12:28:30.768126",
     "status": "completed"
    },
    "tags": []
   },
   "source": [
    "# Now try other models\n",
    "# Or tune your parameters"
   ]
  },
  {
   "cell_type": "markdown",
   "metadata": {},
   "source": [
    "## Try Decision Tree\n",
    "## Try Other models\n",
    "## Try other parameters"
   ]
  }
 ],
 "metadata": {
  "kernelspec": {
   "display_name": "Python 3",
   "language": "python",
   "name": "python3"
  },
  "language_info": {
   "codemirror_mode": {
    "name": "ipython",
    "version": 3
   },
   "file_extension": ".py",
   "mimetype": "text/x-python",
   "name": "python",
   "nbconvert_exporter": "python",
   "pygments_lexer": "ipython3",
   "version": "3.8.8"
  }
 },
 "nbformat": 4,
 "nbformat_minor": 4
}

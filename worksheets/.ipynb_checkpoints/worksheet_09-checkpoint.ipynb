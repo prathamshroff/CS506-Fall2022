{
 "cells": [
  {
   "cell_type": "markdown",
   "metadata": {},
   "source": [
    "# Worksheet 09\n",
    "\n",
    "Name: Pratham Shroff  \n",
    "UID: U00574969\n",
    "\n",
    "### Topics\n",
    "\n",
    "- Introduction to Classification\n",
    "- K Nearest Neighbors\n",
    "\n",
    "### Introduction to Classification\n",
    "\n",
    "a) For the following examples, say whether they are or aren't an example of classification.\n",
    "\n",
    "1. Predicting whether a student will be offered a job after graduating given their GPA.\n",
    "2. Predicting how long it will take (in number of months) for a student to be offered a job after graduating, given their GPA.\n",
    "3. Predicting the number of stars (1-5) a person will assign in their yelp review given the description they wrote in the review.\n",
    "4. Predicting the number of births occuring in a specified minute."
   ]
  },
  {
   "cell_type": "markdown",
   "metadata": {},
   "source": [
    "**Answer:**\n",
    "1. Classification\n",
    "2. Not classification (Regression)\n",
    "3. Classification\n",
    "4. Not classification (Regression)"
   ]
  },
  {
   "cell_type": "markdown",
   "metadata": {},
   "source": [
    "b) Given a dataset, how would you set things up such that you can both learn a model and get an idea of how this model might perform on data it has never seen?"
   ]
  },
  {
   "cell_type": "markdown",
   "metadata": {},
   "source": []
  },
  {
   "cell_type": "markdown",
   "metadata": {},
   "source": [
    "c) In your own words, briefly explain:\n",
    "\n",
    "- underfitting\n",
    "- overfitting\n",
    "\n",
    "and what signs to look out for for each."
   ]
  },
  {
   "cell_type": "markdown",
   "metadata": {},
   "source": []
  },
  {
   "cell_type": "markdown",
   "metadata": {},
   "source": [
    "### K Nearest Neighbors"
   ]
  },
  {
   "cell_type": "code",
   "execution_count": 5,
   "metadata": {},
   "outputs": [],
   "source": [
    "import numpy as np\n",
    "import matplotlib.pyplot as plt\n",
    "\n",
    "data = {\n",
    "    \"Attribute A\" : [3.5, 0, 1, 2.5, 2, 1.5, 2, 3.5, 1, 3, 2, 2, 2.5, 0.5, 0.],\n",
    "    \"Attribute B\" : [4, 1.5, 2, 1, 3.5, 2.5, 1, 0, 3, 1.5, 4, 2, 2.5, 0.5, 2.5],\n",
    "    \"Class\" : [1, 0, 1, 0, 1, 0, 1, 0, 1, 0, 1, 0, 0, 1, 1],\n",
    "}"
   ]
  },
  {
   "cell_type": "markdown",
   "metadata": {},
   "source": [
    "a) Plot the data in a 2D plot coloring each scatter point one of two colors depending on its corresponding class."
   ]
  },
  {
   "cell_type": "code",
   "execution_count": 3,
   "metadata": {},
   "outputs": [
    {
     "data": {
      "image/png": "[encoded data removed]",
      "text/plain": [
       "<Figure size 432x288 with 1 Axes>"
      ]
     },
     "metadata": {
      "needs_background": "light"
     },
     "output_type": "display_data"
    }
   ],
   "source": [
    "colors = np.array([x for x in 'bgrcmyk'])\n",
    "plt.scatter(x = data[\"Attribute A\"], y = data[\"Attribute B\"], color=colors[data[\"Class\"]].tolist())\n",
    "plt.show()"
   ]
  },
  {
   "cell_type": "markdown",
   "metadata": {},
   "source": [
    "Outliers are points that lie far from the rest of the data. They are not necessarily invalid points however. Imagine sampling from a Normal Distribution with mean 10 and variance 1. You would expect most points you sample to be in the range [7, 13] but it's entirely possible to see 20 which, on average, should be very far from the rest of the points in the sample (unless we're VERY (un)lucky). These outliers can inhibit our ability to learn general patterns in the data since they are not representative of likely outcomes. They can still be useful in of themselves and can be analyzed in great depth depending on the problem at hand.\n",
    "\n",
    "b) Are there any points in the dataset that could be outliers? If so, please remove them from the dataset."
   ]
  },
  {
   "cell_type": "markdown",
   "metadata": {},
   "source": [
    "**Yes**, removed outlier at (10, 10) from the dataset itself."
   ]
  },
  {
   "cell_type": "code",
   "execution_count": 7,
   "metadata": {},
   "outputs": [
    {
     "data": {
      "image/png": "[encoded data removed]",
      "text/plain": [
       "<Figure size 432x288 with 1 Axes>"
      ]
     },
     "metadata": {
      "needs_background": "light"
     },
     "output_type": "display_data"
    }
   ],
   "source": [
    "plt.scatter(x = data[\"Attribute A\"], y = data[\"Attribute B\"], color=colors[data[\"Class\"]].tolist())\n",
    "plt.show()"
   ]
  },
  {
   "cell_type": "markdown",
   "metadata": {},
   "source": [
    "Noise points are points that could be considered invalid under the general trend in the data. These could be the result of actual errors in the data or randomness that we could attribute to oversimplification (for example if missing some information / feature about each point). Considering noise points in our model can often lead to overfitting.\n",
    "\n",
    "c) Are there any points in the dataset that could be noise points?"
   ]
  },
  {
   "cell_type": "markdown",
   "metadata": {},
   "source": [
    "**Yes**, the blue point in the left at (0, 1.5)"
   ]
  },
  {
   "cell_type": "markdown",
   "metadata": {},
   "source": [
    "For the following point\n",
    "\n",
    "|  A  |  B  |\n",
    "|-----|-----|\n",
    "| 0.5 |  1  |\n",
    "\n",
    "d) Plot it in a different color along with the rest of the points in the dataset."
   ]
  },
  {
   "cell_type": "code",
   "execution_count": 8,
   "metadata": {},
   "outputs": [
    {
     "data": {
      "image/png": "[encoded data removed]",
      "text/plain": [
       "<Figure size 432x288 with 1 Axes>"
      ]
     },
     "metadata": {
      "needs_background": "light"
     },
     "output_type": "display_data"
    }
   ],
   "source": [
    "unseen_record = {\n",
    "    \"Attribute A\" : 0.5,\n",
    "    \"Attribute B\" : 1,\n",
    "    \"Class\" : [1, 0, 1, 0, 1, 0, 1, 0, 1, 0, 1, 0, 0, 1, 1],\n",
    "}\n",
    "\n",
    "plt.scatter(x = data[\"Attribute A\"], y = data[\"Attribute B\"], color=colors[data[\"Class\"]].tolist())\n",
    "plt.scatter(x = unseen_record[\"Attribute A\"], y = unseen_record[\"Attribute B\"], color='r')\n",
    "plt.show()"
   ]
  },
  {
   "cell_type": "markdown",
   "metadata": {},
   "source": [
    "e) Write a function to compute the Euclidean distance from it to all points in the dataset and pick the 3 closest points to it. In a scatter plot, draw a circle centered around the point with radius the distance of the farthest of the three points."
   ]
  },
  {
   "cell_type": "code",
   "execution_count": 58,
   "metadata": {},
   "outputs": [
    {
     "data": {
      "image/png": "[encoded data removed]",
      "text/plain": [
       "<Figure size 432x288 with 1 Axes>"
      ]
     },
     "metadata": {
      "needs_background": "light"
     },
     "output_type": "display_data"
    }
   ],
   "source": [
    "from scipy.spatial import distance\n",
    "\n",
    "def euclid_dist(a, b):\n",
    "    ret = 0.0\n",
    "    ret += (a[\"Attribute A\"] - b[\"Attribute A\"])**2\n",
    "    ret += (a[\"Attribute B\"] - b[\"Attribute B\"])**2\n",
    "    # return distance.euclidean(a[\"Attribute A\"], b[\"Attribute B\"])\n",
    "    return ret\n",
    "\n",
    "def n_closest_to(example, data, n):\n",
    "    distances = []\n",
    "    for i in range(len(data[\"Attribute A\"])):\n",
    "        training_record = {\n",
    "            \"Attribute A\" : data [\"Attribute A\"][i],\n",
    "            \"Attribute B\" : data [\"Attribute B\"][i],\n",
    "            \"Class\" : data [\"Class\"][i]\n",
    "        }\n",
    "        distances.append(\n",
    "            {\n",
    "                \"record\" : training_record,\n",
    "                \"dist\" : euclid_dist(training_record, example)\n",
    "            }\n",
    "        )\n",
    "    distances.sort(key = lambda x:x[\"dist\"])\n",
    "    \n",
    "    return distances[:n]\n",
    "\n",
    "# print(n_closest_to(unseen_record, data, 3))\n",
    "\n",
    "location = (unseen_record[\"Attribute A\"], unseen_record[\"Attribute B\"] )\n",
    "radius = 1.118\n",
    "_, axes = plt.subplots()\n",
    "axes.scatter(x = data[\"Attribute A\"], y = data[\"Attribute B\"], color=colors[data[\"Class\"]].tolist())\n",
    "axes.scatter(x = unseen_record[\"Attribute A\"], y = unseen_record[\"Attribute B\"], color='r')\n",
    "cir = plt.Circle(location, radius, fill = False, alpha=0.8)\n",
    "axes.add_patch(cir)\n",
    "axes.set_aspect('equal') # necessary so that the circle is not oval\n",
    "plt.show()"
   ]
  },
  {
   "cell_type": "markdown",
   "metadata": {},
   "source": [
    "f) Write a function that takes the three points returned by your function in e) and returns the class that the majority of points have (break ties with a deterministic default class of your choosing). Print the class assigned to this new point by your function."
   ]
  },
  {
   "cell_type": "code",
   "execution_count": 109,
   "metadata": {},
   "outputs": [
    {
     "name": "stdout",
     "output_type": "stream",
     "text": [
      "Predicted class: 1\n"
     ]
    }
   ],
   "source": [
    "# we do not have to break ties with a deterministic class as from 3 points, we will always have a majority\n",
    "\n",
    "def majority(points):\n",
    "    m = (sum([point['record']['Class'] for point in points]))\n",
    "    if m > 1:\n",
    "        return 1\n",
    "    else:\n",
    "        return 0\n",
    "        \n",
    "closest_points = n_closest_to(unseen_record, data, 3)        \n",
    "predicted_class = majority(closest_points)\n",
    "print(\"Predicted class:\", predicted_class)"
   ]
  },
  {
   "cell_type": "markdown",
   "metadata": {},
   "source": [
    "g) Re-using the functions from e) and f), you should be able to assign a class to any new point. In this exercise we will implement Leave-one-out cross validiation in order to evaluate the performance of our model.\n",
    "\n",
    "For each point in the dataset:\n",
    "\n",
    "- consider that point as your test set and the rest of the data as your training set\n",
    "- classify that point using the training set\n",
    "- keep track of whether you were correct with the use of a counter\n",
    "\n",
    "Once you've iterated through the entire dataset, divide the counter by the number of points in the dataset to report an overall testing accuracy."
   ]
  },
  {
   "cell_type": "code",
   "execution_count": 127,
   "metadata": {},
   "outputs": [
    {
     "name": "stdout",
     "output_type": "stream",
     "text": [
      "Total number of points in the dataset: 15\n",
      "Overall accuracy =  73.33 %\n"
     ]
    }
   ],
   "source": [
    "total = len(data[\"Attribute A\"])\n",
    "print(\"Total number of points in the dataset:\", total)\n",
    "\n",
    "count = 0\n",
    "for i in range(len(data[\"Attribute A\"])):\n",
    "    actual_class = data[\"Class\"][i]\n",
    "    test_set = {\n",
    "        \"Attribute A\": data[\"Attribute A\"][i], \"Attribute B\": data[\"Attribute B\"][i]\n",
    "    }\n",
    "    # print (test_set)\n",
    "    training_set = {\n",
    "        \"Attribute A\": data[\"Attribute A\"][0:i] + data[\"Attribute A\"][i+1:],\n",
    "        \"Attribute B\": data[\"Attribute B\"][0:i] + data[\"Attribute B\"][i+1:],\n",
    "        \"Class\" : data[\"Class\"][0:i] + data[\"Class\"][i+1:]\n",
    "    }\n",
    "    # print (training_set)\n",
    "    points = n_closest_to(test_set, training_set, 3)\n",
    "    prediction = majority(points)\n",
    "    if prediction == actual_class:\n",
    "        count += 1\n",
    "\n",
    "print(\"Overall accuracy = \", round(count/total*100, 2), \"%\")"
   ]
  }
 ],
 "metadata": {
  "interpreter": {
   "hash": "76ca05dc3ea24b2e3b98cdb7774adfbb40773424bf5109b477fd793f623715af"
  },
  "kernelspec": {
   "display_name": "Python 3",
   "language": "python",
   "name": "python3"
  },
  "language_info": {
   "codemirror_mode": {
    "name": "ipython",
    "version": 3
   },
   "file_extension": ".py",
   "mimetype": "text/x-python",
   "name": "python",
   "nbconvert_exporter": "python",
   "pygments_lexer": "ipython3",
   "version": "3.8.8"
  }
 },
 "nbformat": 4,
 "nbformat_minor": 2
}

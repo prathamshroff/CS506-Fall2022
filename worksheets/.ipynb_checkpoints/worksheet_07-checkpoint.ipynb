{
 "cells": [
  {
   "cell_type": "markdown",
   "metadata": {},
   "source": [
    "# Worksheet 07\n",
    "\n",
    "Name: Pratham Shroff\n",
    "UID: U00574969\n",
    "\n",
    "### Topics\n",
    "\n",
    "- Soft Clustering\n",
    "- Clustering Aggregation\n",
    "\n",
    "### Probability Review\n",
    "\n",
    "Read through [the following](https://medium.com/@gallettilance/overview-of-probability-3272b72c82c8)\n",
    "\n",
    "### Soft Clustering\n",
    "\n",
    "We generate 10 data points that come from a normal distribution with mean 5 and variance 1."
   ]
  },
  {
   "cell_type": "code",
   "execution_count": 24,
   "metadata": {},
   "outputs": [
    {
     "name": "stdout",
     "output_type": "stream",
     "text": [
      "[2.9928409540917538, 5.234964721134346, 5.308944810617546, 4.856488645838351, 5.0337062607100185, 4.545311185192747, 5.0696148091885975, 4.6327338310443125, 6.201957337421415, 4.513615901963781]\n"
     ]
    }
   ],
   "source": [
    "import random\n",
    "import numpy as np\n",
    "from sklearn.cluster import KMeans\n",
    "\n",
    "mean = 5\n",
    "stdev = 1\n",
    "\n",
    "c1 = np.random.normal(mean, stdev, 10).tolist()\n",
    "print(c1)"
   ]
  },
  {
   "cell_type": "markdown",
   "metadata": {},
   "source": [
    "a) Generate 10 more data points, this time coming from a normal distribution with mean 8 and variance 1."
   ]
  },
  {
   "cell_type": "code",
   "execution_count": 25,
   "metadata": {},
   "outputs": [
    {
     "name": "stdout",
     "output_type": "stream",
     "text": [
      "[7.914624200870389, 8.824413580723588, 8.799461053498103, 7.732183459606302, 6.63078616335245, 8.098412561557488, 8.20175530539216, 9.506189195014558, 6.468879029723478, 6.787209420740708]\n"
     ]
    }
   ],
   "source": [
    "c2 = np.random.normal( 8 , 1 , 10 ).tolist()\n",
    "print(c2)"
   ]
  },
  {
   "cell_type": "markdown",
   "metadata": {},
   "source": [
    "b) Flip a fair coin 10 times. If the coin lands on H, then pick the last data point of `c1` and remove it from `c1`, if T then pick the last data point from `c2` and remove it from `c2`. Add these 10 points to a list called `data`."
   ]
  },
  {
   "cell_type": "code",
   "execution_count": 26,
   "metadata": {},
   "outputs": [
    {
     "name": "stdout",
     "output_type": "stream",
     "text": [
      "[6.787209420740708, 4.513615901963781, 6.201957337421415, 6.468879029723478, 9.506189195014558, 4.6327338310443125, 5.0696148091885975, 8.20175530539216, 4.545311185192747, 8.098412561557488]\n"
     ]
    }
   ],
   "source": [
    "data = []\n",
    "for i in range(10):\n",
    "    # flip coin\n",
    "    coin_output = random.choice([0, 1])\n",
    "    if coin_output == 0:\n",
    "        p1 = c1.pop()\n",
    "        data.append(p1)\n",
    "    else:\n",
    "        p2 = c2.pop()\n",
    "        data.append(p2)\n",
    "       \n",
    "print(data)"
   ]
  },
  {
   "cell_type": "markdown",
   "metadata": {},
   "source": [
    "c) This `data` is a Gaussian Mixture Distribution with 2 mixture components. Over the next few questions we will walk through the GMM algorithm to see if we can uncover the parameters we used to generate this data. First, please list all these parameters of the GMM that created `data` and the values we know they have."
   ]
  },
  {
   "cell_type": "markdown",
   "metadata": {},
   "source": []
  },
  {
   "cell_type": "markdown",
   "metadata": {},
   "source": [
    "d) Let's assume there are two mixture components (note: we could plot the data and make the observation that there are two clusters). The EM algorithm asks us to start with a random `mean_j`, `variance_j`, `P(C_j)` for each component j. One method we could use to find sensible values for these is to apply K means with k=2 here.\n",
    "\n",
    "1. the centroids would be the estimates of the `mean_j`\n",
    "2. the intra-cluster variance could be the estimate of `variance_j`\n",
    "3. the proportion of points in each cluster could be the estimate of `P(C_j)`\n",
    "\n",
    "Go through this process and list the parameter estimates it gives. Are they close or far from the true values?"
   ]
  },
  {
   "cell_type": "code",
   "execution_count": 27,
   "metadata": {},
   "outputs": [
    {
     "name": "stdout",
     "output_type": "stream",
     "text": [
      "[9.506189195014558, 8.20175530539216, 8.098412561557488]\n",
      "[6.787209420740708, 4.513615901963781, 6.201957337421415, 6.468879029723478, 4.6327338310443125, 5.0696148091885975, 4.545311185192747]\n",
      "P(C_1) = 0.3,  P(C_2) = 0.7\n",
      "mean_1 = 8.602119020654735,  mean_2 = 5.459903073610719\n",
      "var_1 = 0.41045139386738,  var_2 = 0.8426986811945534\n"
     ]
    }
   ],
   "source": [
    "kmeans = KMeans(2, init='k-means++').fit(X=np.array(data).reshape(-1, 1))\n",
    "\n",
    "c1 = [x[0] for x in filter(lambda x: x[1] == 0, zip(data, kmeans.labels_))]\n",
    "print(c1)\n",
    "c2 = [x[0] for x in filter(lambda x: x[1] == 1, zip(data, kmeans.labels_))]\n",
    "print(c2)\n",
    "\n",
    "prob_c = [ len(c1) / (len(c1) + len(c2)) , len(c2) / (len(c1) + len(c2)) ]\n",
    "mean = [ sum(c1)/len(c1) , sum(c2)/len(c2) ]\n",
    "var = [ sum(map(lambda x : (x - mean[0])**2, c1)) / len(c1) , sum(map(lambda x : (x - mean[1])**2, c2)) / len(c2) ]\n",
    "\n",
    "print(\"P(C_1) = \" + str(prob_c[0]) + \",  P(C_2) = \" + str(prob_c[1]))\n",
    "print(\"mean_1 = \" + str(mean[0]) + \",  mean_2 = \" + str(mean[1]))\n",
    "print(\"var_1 = \" + str(var[0]) + \",  var_2 = \" + str(var[1]))"
   ]
  },
  {
   "cell_type": "markdown",
   "metadata": {},
   "source": []
  },
  {
   "cell_type": "markdown",
   "metadata": {},
   "source": [
    "e) For each data point, compute `P(C_j | X_i)`. Comment on which cluster you think each point belongs to based on the estimated probabilities. How does that compare to the truth?"
   ]
  },
  {
   "cell_type": "code",
   "execution_count": 28,
   "metadata": {},
   "outputs": [
    {
     "name": "stdout",
     "output_type": "stream",
     "text": [
      "point =  6.787209420740708\n",
      "probability of observing that point if it came from cluster 0 =  5.5211692044746985e-05\n",
      "probability of observing that point if it came from cluster 1 =  0.13694036547933924\n",
      "point =  4.513615901963781\n",
      "probability of observing that point if it came from cluster 0 =  2.76695881098113e-22\n",
      "probability of observing that point if it came from cluster 1 =  0.25201348942131596\n",
      "point =  6.201957337421415\n",
      "probability of observing that point if it came from cluster 0 =  3.6507769656660745e-08\n",
      "probability of observing that point if it came from cluster 1 =  0.321263532381688\n",
      "point =  6.468879029723478\n",
      "probability of observing that point if it came from cluster 0 =  1.3245780660858398e-06\n",
      "probability of observing that point if it came from cluster 1 =  0.23117631782759007\n",
      "point =  9.506189195014558\n",
      "probability of observing that point if it came from cluster 0 =  0.08593041319430028\n",
      "probability of observing that point if it came from cluster 1 =  4.66518257001541e-06\n",
      "point =  4.6327338310443125\n",
      "probability of observing that point if it came from cluster 0 =  4.7771870676223676e-21\n",
      "probability of observing that point if it came from cluster 1 =  0.29242873313085993\n",
      "point =  5.0696148091885975\n",
      "probability of observing that point if it came from cluster 0 =  8.008817660245579e-17\n",
      "probability of observing that point if it came from cluster 1 =  0.4252651254506239\n",
      "point =  8.20175530539216\n",
      "probability of observing that point if it came from cluster 0 =  0.6040092609318738\n",
      "probability of observing that point if it came from cluster 1 =  0.002379336155966252\n",
      "point =  4.545311185192747\n",
      "probability of observing that point if it came from cluster 0 =  5.953388910304131e-22\n",
      "probability of observing that point if it came from cluster 1 =  0.2626993815835568\n",
      "point =  8.098412561557488\n",
      "probability of observing that point if it came from cluster 0 =  0.45774079290168307\n",
      "probability of observing that point if it came from cluster 1 =  0.003519461749011541\n",
      "6.787209420740708\n",
      "Probability of coming from C_1 = 0.00017276181302768067\n",
      "Probability of coming from C_2 = 0.9998272381869724\n",
      "\n",
      "4.513615901963781\n",
      "Probability of coming from C_1 = 4.705460382868628e-22\n",
      "Probability of coming from C_2 = 1.0\n",
      "\n",
      "6.201957337421415\n",
      "Probability of coming from C_1 = 4.870203012996103e-08\n",
      "Probability of coming from C_2 = 0.9999999512979698\n",
      "\n",
      "6.468879029723478\n",
      "Probability of coming from C_1 = 2.4555928798824554e-06\n",
      "Probability of coming from C_2 = 0.9999975444071201\n",
      "\n",
      "9.506189195014558\n",
      "Probability of coming from C_1 = 0.9998733388234591\n",
      "Probability of coming from C_2 = 0.0001266611765409347\n",
      "\n",
      "4.6327338310443125\n",
      "Probability of coming from C_1 = 7.00124732684079e-21\n",
      "Probability of coming from C_2 = 1.0\n",
      "\n",
      "5.0696148091885975\n",
      "Probability of coming from C_1 = 8.071083708504221e-17\n",
      "Probability of coming from C_2 = 1.0\n",
      "\n",
      "8.20175530539216\n",
      "Probability of coming from C_1 = 0.9908921601753157\n",
      "Probability of coming from C_2 = 0.009107839824684336\n",
      "\n",
      "4.545311185192747\n",
      "Probability of coming from C_1 = 9.7124415548683e-22\n",
      "Probability of coming from C_2 = 1.0\n",
      "\n",
      "8.098412561557488\n",
      "Probability of coming from C_1 = 0.9823757338187654\n",
      "Probability of coming from C_2 = 0.017624266181234662\n",
      "\n"
     ]
    }
   ],
   "source": [
    "from scipy.stats import norm\n",
    "\n",
    "prob_c0_x = [] # P(C_0 | X_i)\n",
    "prob_c1_x = [] # P(C_1 | X_i)\n",
    "prob_x = [] # P(X_i)\n",
    "\n",
    "k = 2\n",
    "\n",
    "for p in data:\n",
    "    print(\"point = \", p)\n",
    "    pdf_i = []\n",
    "\n",
    "    for j in range(k):\n",
    "        # P(X_i | C_j)\n",
    "        pdf_i.append(norm.pdf(p, mean[j], var[j]))\n",
    "        print(\"probability of observing that point if it came from cluster \" + str(j) + \" = \", pdf_i[j])\n",
    "        # P(C_j) already computed\n",
    "        prob_c[j]\n",
    "\n",
    "    # P(X_i) = P(C_0)P(X_i | C_0) + P(C_1)P(X_i | C_1)\n",
    "    prob_x = prob_c[0] * pdf_i[0] + prob_c[1] * pdf_i[1]\n",
    "\n",
    "    # P(C_j | X_i) = P(X_i | C_j)P(C_j) / P(X_i)\n",
    "    prob_c0_x.append( pdf_i[0] *  prob_c[0] / prob_x )\n",
    "    prob_c1_x.append( pdf_i[1] *  prob_c[1] / prob_x )\n",
    "\n",
    "probs = zip(data, prob_c0_x, prob_c1_x)\n",
    "for p in probs:\n",
    "    print(p[0])\n",
    "    print(\"Probability of coming from C_1 = \" + str(p[1]))\n",
    "    print(\"Probability of coming from C_2 = \" + str(p[2]))\n",
    "    print()\n"
   ]
  },
  {
   "cell_type": "markdown",
   "metadata": {},
   "source": [
    "f) Having computed `P(C_j | X_i)`, update the estimates of `mean_j`, `var_j`, and `P(C_j)`. How different are these values from the original ones you got from K means? briefly comment."
   ]
  },
  {
   "cell_type": "code",
   "execution_count": 30,
   "metadata": {},
   "outputs": [
    {
     "name": "stdout",
     "output_type": "stream",
     "text": [
      "P(C_1) = 0.2973316498925478,  P(C_2) = 0.7026683501074522\n",
      "mean_1 = 8.606185352772533,  mean_2 = 5.470114837127944\n",
      "var_1 = 1.2258504688947063,  var_2 = 6.09109080760832\n"
     ]
    }
   ],
   "source": [
    "prob_c = [sum(prob_c0_x)/ len(prob_c0_x), sum(prob_c1_x)/ len(prob_c1_x) ]\n",
    "mean = [sum([x[0] * x[1] for x in zip(prob_c0_x, data)]) / sum(prob_c0_x), sum([x[0] * x[1] for x in zip(prob_c1_x, data)]) / sum(prob_c1_x) ]\n",
    "\n",
    "var = [ sum(map(lambda x : x[0]*(x[1] - mean[0])**2, zip(prob_c0_x, data)))  , sum(map(lambda x : x[0]*(x[1] - mean[1])**2, zip(prob_c1_x, data))) ]\n",
    "\n",
    "print(\"P(C_1) = \" + str(prob_c[0]) + \",  P(C_2) = \" + str(prob_c[1]))\n",
    "print(\"mean_1 = \" + str(mean[0]) + \",  mean_2 = \" + str(mean[1]))\n",
    "print(\"var_1 = \" + str(var[0]) + \",  var_2 = \" + str(var[1]))"
   ]
  },
  {
   "cell_type": "markdown",
   "metadata": {},
   "source": []
  },
  {
   "cell_type": "markdown",
   "metadata": {},
   "source": [
    "g) Update `P(C_j | X_i)`. Comment on any differences or lack thereof you observe."
   ]
  },
  {
   "cell_type": "code",
   "execution_count": null,
   "metadata": {},
   "outputs": [],
   "source": []
  },
  {
   "cell_type": "markdown",
   "metadata": {},
   "source": []
  },
  {
   "cell_type": "markdown",
   "metadata": {},
   "source": [
    "h) Use `P(C_j | X_i)` to create a hard assignment - label each point as belonging to a specific cluster (0 or 1)"
   ]
  },
  {
   "cell_type": "code",
   "execution_count": null,
   "metadata": {},
   "outputs": [],
   "source": []
  },
  {
   "cell_type": "markdown",
   "metadata": {},
   "source": [
    "### Clustering Aggregation\n",
    "\n",
    "| Point | C | P |\n",
    "|-------|---|---|\n",
    "| A     | 0 | a |\n",
    "| B     | 0 | b |\n",
    "| C     | 2 | b |\n",
    "| D     | 1 | c |\n",
    "| E     | 1 | d |\n",
    "\n",
    "a) Fill in the following table where for each pair of points determine whether C and P agree or disagree on how to cluster that pair."
   ]
  },
  {
   "cell_type": "markdown",
   "metadata": {},
   "source": [
    "| Pair | Disagreement |\n",
    "|------|--------------|\n",
    "| A  B |      ?       |\n",
    "| A  C |      ?       |\n",
    "| A  D |      ?       |\n",
    "| A  E |      ?       |\n",
    "| B  C |      ?       |\n",
    "| B  D |      ?       |\n",
    "| B  E |      ?       |\n",
    "| C  D |      ?       |\n",
    "| C  E |      ?       |\n",
    "| D  E |      ?       |\n"
   ]
  },
  {
   "cell_type": "markdown",
   "metadata": {},
   "source": [
    "As datasets become very large, this process can become computationally challenging.\n",
    "\n",
    "b) Given N points, what is the formula for the number of unique pairs of points one can create?"
   ]
  },
  {
   "cell_type": "markdown",
   "metadata": {},
   "source": []
  },
  {
   "cell_type": "markdown",
   "metadata": {},
   "source": [
    "Assume that clustering C clusters all points in the same cluster and clustering P clusters points as such:\n",
    "\n",
    "| Point | P |\n",
    "|-------|---|\n",
    "| A     | 0 |\n",
    "| B     | 0 |\n",
    "| C     | 0 |\n",
    "| D     | 1 |\n",
    "| E     | 1 |\n",
    "| F     | 2 |\n",
    "| G     | 2 |\n",
    "| H     | 2 |\n",
    "| I     | 2 |\n",
    "\n",
    "c) What is the maximum number of disagreements there could be for a dataset of this size? (use the formula from b)?"
   ]
  },
  {
   "cell_type": "markdown",
   "metadata": {},
   "source": []
  },
  {
   "cell_type": "markdown",
   "metadata": {},
   "source": [
    "d) If we look at cluster 0. There are (3 x 2) / 2 = 3 pairs that agree with C (since all points in C are in the same cluster). For each cluster, determine how many agreements there are. How many total agreements are there? How many disagreements does that mean there are between C and P?"
   ]
  },
  {
   "cell_type": "markdown",
   "metadata": {},
   "source": []
  },
  {
   "cell_type": "markdown",
   "metadata": {},
   "source": [
    "e) Assuming that filtering the dataset by cluster number is a computationally easy operation, describe an algorithm inspired by the above process that can efficiently compute disagreement distances on large datasets."
   ]
  },
  {
   "cell_type": "markdown",
   "metadata": {},
   "source": []
  }
 ],
 "metadata": {
  "interpreter": {
   "hash": "76ca05dc3ea24b2e3b98cdb7774adfbb40773424bf5109b477fd793f623715af"
  },
  "kernelspec": {
   "display_name": "Python 3",
   "language": "python",
   "name": "python3"
  },
  "language_info": {
   "codemirror_mode": {
    "name": "ipython",
    "version": 3
   },
   "file_extension": ".py",
   "mimetype": "text/x-python",
   "name": "python",
   "nbconvert_exporter": "python",
   "pygments_lexer": "ipython3",
   "version": "3.8.8"
  }
 },
 "nbformat": 4,
 "nbformat_minor": 2
}
